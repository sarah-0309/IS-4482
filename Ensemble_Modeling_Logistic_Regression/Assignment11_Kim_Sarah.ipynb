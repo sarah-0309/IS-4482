{
  "nbformat": 4,
  "nbformat_minor": 0,
  "metadata": {
    "colab": {
      "name": "Assignment11_Kim_Sarah.ipynb",
      "provenance": []
    },
    "kernelspec": {
      "name": "python3",
      "display_name": "Python 3"
    },
    "language_info": {
      "name": "python"
    }
  },
  "cells": [
    {
      "cell_type": "markdown",
      "source": [
        "#Header\n",
        "\n"
      ],
      "metadata": {
        "id": "MVM6q1MZxWWo"
      }
    },
    {
      "cell_type": "markdown",
      "source": [
        "Ensemble Modeling and Logistic Regression\n",
        "\n",
        "Sarah Kim"
      ],
      "metadata": {
        "id": "9xR17lBPxDS1"
      }
    },
    {
      "cell_type": "markdown",
      "source": [
        "# Task I: Setup, Data Importation, and Data Preparation for Modeling"
      ],
      "metadata": {
        "id": "qVu1lmnew8wn"
      }
    },
    {
      "cell_type": "code",
      "execution_count": 5,
      "metadata": {
        "id": "8HU5-oP2jTU0"
      },
      "outputs": [],
      "source": [
        "# Mathematics and Dataframe Packages\n",
        "import numpy as np\n",
        "import pandas as pd\n",
        "\n",
        "# Google Colab and CSV Packages\n",
        "from google.colab import drive\n",
        "import csv\n",
        "\n",
        "# Graphical Packages\n",
        "import seaborn as sns\n",
        "from matplotlib import pyplot as plt\n",
        "%matplotlib inline\n",
        "\n",
        "# Data Preparation Packages, \n",
        "from sklearn.model_selection import train_test_split\n",
        "\n",
        "# Cross-Validation and Grid-Searching Packages\n",
        "from sklearn.model_selection import cross_validate\n",
        "from sklearn.model_selection import GridSearchCV\n",
        "\n",
        "# Modeling Packages - Single\n",
        "from sklearn.tree import DecisionTreeClassifier\n",
        "from sklearn.svm import SVC\n",
        "from sklearn.linear_model import LogisticRegression\n",
        "\n",
        "# Modeling Packages - Ensemble\n",
        "from sklearn.ensemble import RandomForestClassifier\n",
        "from sklearn.ensemble import GradientBoostingClassifier\n",
        "from sklearn.ensemble import VotingClassifier\n",
        "from sklearn.ensemble import StackingClassifier\n",
        "\n",
        "# Model Evaluation Packages\n",
        "from sklearn.metrics import confusion_matrix\n",
        "from sklearn.metrics import ConfusionMatrixDisplay\n",
        "from sklearn.metrics import classification_report\n",
        "\n",
        "# Suppress Warning Messages\n",
        "import warnings\n",
        "warnings.filterwarnings('ignore')"
      ]
    },
    {
      "cell_type": "markdown",
      "source": [
        "##Task I: Setup, Data Importation and Preparation\n"
      ],
      "metadata": {
        "id": "Y9u30Qmqxbsz"
      }
    },
    {
      "cell_type": "markdown",
      "source": [
        "###B: Import Data"
      ],
      "metadata": {
        "id": "aOkaQhNOyAde"
      }
    },
    {
      "cell_type": "code",
      "source": [
        "from google.colab import drive\n",
        "drive.mount('/content/gdrive')"
      ],
      "metadata": {
        "colab": {
          "base_uri": "https://localhost:8080/"
        },
        "id": "_4rGHdj6xc1M",
        "outputId": "f0346407-2c0e-49c0-d895-6b26acf9eb63"
      },
      "execution_count": 6,
      "outputs": [
        {
          "output_type": "stream",
          "name": "stdout",
          "text": [
            "Drive already mounted at /content/gdrive; to attempt to forcibly remount, call drive.mount(\"/content/gdrive\", force_remount=True).\n"
          ]
        }
      ]
    },
    {
      "cell_type": "code",
      "source": [
        "cd_df = pd.read_csv('/content/gdrive/MyDrive/Data_Sets/CD_additional_balanced.csv')\n"
      ],
      "metadata": {
        "id": "NtT_XVBaxlL2"
      },
      "execution_count": 7,
      "outputs": []
    },
    {
      "cell_type": "markdown",
      "source": [
        "###C: Overall Structure"
      ],
      "metadata": {
        "id": "-paOoXuWx3Fq"
      }
    },
    {
      "cell_type": "code",
      "source": [
        "cd_df.info()\n"
      ],
      "metadata": {
        "colab": {
          "base_uri": "https://localhost:8080/"
        },
        "id": "xaYGQuUrx2gv",
        "outputId": "2f666c80-b611-4041-cc6b-32bc2687808f"
      },
      "execution_count": 8,
      "outputs": [
        {
          "output_type": "stream",
          "name": "stdout",
          "text": [
            "<class 'pandas.core.frame.DataFrame'>\n",
            "RangeIndex: 9280 entries, 0 to 9279\n",
            "Data columns (total 21 columns):\n",
            " #   Column          Non-Null Count  Dtype  \n",
            "---  ------          --------------  -----  \n",
            " 0   age             9280 non-null   int64  \n",
            " 1   job             9280 non-null   object \n",
            " 2   marital         9280 non-null   object \n",
            " 3   education       9280 non-null   object \n",
            " 4   default         9280 non-null   object \n",
            " 5   housing         9280 non-null   object \n",
            " 6   loan            9280 non-null   object \n",
            " 7   contact         9280 non-null   object \n",
            " 8   month           9280 non-null   object \n",
            " 9   day_of_week     9280 non-null   object \n",
            " 10  duration        9280 non-null   int64  \n",
            " 11  campaign        9280 non-null   int64  \n",
            " 12  pdays           9280 non-null   int64  \n",
            " 13  previous        9280 non-null   int64  \n",
            " 14  poutcome        9280 non-null   object \n",
            " 15  emp.var.rate    9280 non-null   float64\n",
            " 16  cons.price.idx  9280 non-null   float64\n",
            " 17  cons.conf.idx   9280 non-null   float64\n",
            " 18  euribor3m       9280 non-null   float64\n",
            " 19  nr.employed     9280 non-null   float64\n",
            " 20  y               9280 non-null   object \n",
            "dtypes: float64(5), int64(5), object(11)\n",
            "memory usage: 1.5+ MB\n"
          ]
        }
      ]
    },
    {
      "cell_type": "code",
      "source": [
        "cd_df.describe()\n"
      ],
      "metadata": {
        "colab": {
          "base_uri": "https://localhost:8080/",
          "height": 364
        },
        "id": "0Ahqqcmgx7BP",
        "outputId": "12fc247a-550b-4702-d74f-4ada1ce14316"
      },
      "execution_count": 9,
      "outputs": [
        {
          "output_type": "execute_result",
          "data": {
            "text/plain": [
              "               age     duration     campaign        pdays     previous  \\\n",
              "count  9280.000000  9280.000000  9280.000000  9280.000000  9280.000000   \n",
              "mean     40.403448   387.361746     2.333297   887.282435     0.315302   \n",
              "std      12.062030   357.711742     2.334467   313.802415     0.700671   \n",
              "min      17.000000     1.000000     1.000000     0.000000     0.000000   \n",
              "25%      31.000000   145.000000     1.000000   999.000000     0.000000   \n",
              "50%      38.000000   265.000000     2.000000   999.000000     0.000000   \n",
              "75%      48.000000   528.000000     3.000000   999.000000     0.000000   \n",
              "max      98.000000  4199.000000    39.000000   999.000000     6.000000   \n",
              "\n",
              "       emp.var.rate  cons.price.idx  cons.conf.idx    euribor3m  nr.employed  \n",
              "count   9280.000000     9280.000000    9280.000000  9280.000000  9280.000000  \n",
              "mean      -0.496272       93.479178     -40.218125     2.960209  5135.306487  \n",
              "std        1.721204        0.634510       5.360642     1.890402    87.105317  \n",
              "min       -3.400000       92.201000     -50.800000     0.634000  4963.600000  \n",
              "25%       -1.800000       92.893000     -42.700000     1.244000  5076.200000  \n",
              "50%       -0.100000       93.444000     -41.800000     4.021000  5191.000000  \n",
              "75%        1.400000       93.994000     -36.400000     4.959000  5228.100000  \n",
              "max        1.400000       94.767000     -26.900000     5.045000  5228.100000  "
            ],
            "text/html": [
              "\n",
              "  <div id=\"df-d35abe83-2671-4b42-b70a-b853d8930a00\">\n",
              "    <div class=\"colab-df-container\">\n",
              "      <div>\n",
              "<style scoped>\n",
              "    .dataframe tbody tr th:only-of-type {\n",
              "        vertical-align: middle;\n",
              "    }\n",
              "\n",
              "    .dataframe tbody tr th {\n",
              "        vertical-align: top;\n",
              "    }\n",
              "\n",
              "    .dataframe thead th {\n",
              "        text-align: right;\n",
              "    }\n",
              "</style>\n",
              "<table border=\"1\" class=\"dataframe\">\n",
              "  <thead>\n",
              "    <tr style=\"text-align: right;\">\n",
              "      <th></th>\n",
              "      <th>age</th>\n",
              "      <th>duration</th>\n",
              "      <th>campaign</th>\n",
              "      <th>pdays</th>\n",
              "      <th>previous</th>\n",
              "      <th>emp.var.rate</th>\n",
              "      <th>cons.price.idx</th>\n",
              "      <th>cons.conf.idx</th>\n",
              "      <th>euribor3m</th>\n",
              "      <th>nr.employed</th>\n",
              "    </tr>\n",
              "  </thead>\n",
              "  <tbody>\n",
              "    <tr>\n",
              "      <th>count</th>\n",
              "      <td>9280.000000</td>\n",
              "      <td>9280.000000</td>\n",
              "      <td>9280.000000</td>\n",
              "      <td>9280.000000</td>\n",
              "      <td>9280.000000</td>\n",
              "      <td>9280.000000</td>\n",
              "      <td>9280.000000</td>\n",
              "      <td>9280.000000</td>\n",
              "      <td>9280.000000</td>\n",
              "      <td>9280.000000</td>\n",
              "    </tr>\n",
              "    <tr>\n",
              "      <th>mean</th>\n",
              "      <td>40.403448</td>\n",
              "      <td>387.361746</td>\n",
              "      <td>2.333297</td>\n",
              "      <td>887.282435</td>\n",
              "      <td>0.315302</td>\n",
              "      <td>-0.496272</td>\n",
              "      <td>93.479178</td>\n",
              "      <td>-40.218125</td>\n",
              "      <td>2.960209</td>\n",
              "      <td>5135.306487</td>\n",
              "    </tr>\n",
              "    <tr>\n",
              "      <th>std</th>\n",
              "      <td>12.062030</td>\n",
              "      <td>357.711742</td>\n",
              "      <td>2.334467</td>\n",
              "      <td>313.802415</td>\n",
              "      <td>0.700671</td>\n",
              "      <td>1.721204</td>\n",
              "      <td>0.634510</td>\n",
              "      <td>5.360642</td>\n",
              "      <td>1.890402</td>\n",
              "      <td>87.105317</td>\n",
              "    </tr>\n",
              "    <tr>\n",
              "      <th>min</th>\n",
              "      <td>17.000000</td>\n",
              "      <td>1.000000</td>\n",
              "      <td>1.000000</td>\n",
              "      <td>0.000000</td>\n",
              "      <td>0.000000</td>\n",
              "      <td>-3.400000</td>\n",
              "      <td>92.201000</td>\n",
              "      <td>-50.800000</td>\n",
              "      <td>0.634000</td>\n",
              "      <td>4963.600000</td>\n",
              "    </tr>\n",
              "    <tr>\n",
              "      <th>25%</th>\n",
              "      <td>31.000000</td>\n",
              "      <td>145.000000</td>\n",
              "      <td>1.000000</td>\n",
              "      <td>999.000000</td>\n",
              "      <td>0.000000</td>\n",
              "      <td>-1.800000</td>\n",
              "      <td>92.893000</td>\n",
              "      <td>-42.700000</td>\n",
              "      <td>1.244000</td>\n",
              "      <td>5076.200000</td>\n",
              "    </tr>\n",
              "    <tr>\n",
              "      <th>50%</th>\n",
              "      <td>38.000000</td>\n",
              "      <td>265.000000</td>\n",
              "      <td>2.000000</td>\n",
              "      <td>999.000000</td>\n",
              "      <td>0.000000</td>\n",
              "      <td>-0.100000</td>\n",
              "      <td>93.444000</td>\n",
              "      <td>-41.800000</td>\n",
              "      <td>4.021000</td>\n",
              "      <td>5191.000000</td>\n",
              "    </tr>\n",
              "    <tr>\n",
              "      <th>75%</th>\n",
              "      <td>48.000000</td>\n",
              "      <td>528.000000</td>\n",
              "      <td>3.000000</td>\n",
              "      <td>999.000000</td>\n",
              "      <td>0.000000</td>\n",
              "      <td>1.400000</td>\n",
              "      <td>93.994000</td>\n",
              "      <td>-36.400000</td>\n",
              "      <td>4.959000</td>\n",
              "      <td>5228.100000</td>\n",
              "    </tr>\n",
              "    <tr>\n",
              "      <th>max</th>\n",
              "      <td>98.000000</td>\n",
              "      <td>4199.000000</td>\n",
              "      <td>39.000000</td>\n",
              "      <td>999.000000</td>\n",
              "      <td>6.000000</td>\n",
              "      <td>1.400000</td>\n",
              "      <td>94.767000</td>\n",
              "      <td>-26.900000</td>\n",
              "      <td>5.045000</td>\n",
              "      <td>5228.100000</td>\n",
              "    </tr>\n",
              "  </tbody>\n",
              "</table>\n",
              "</div>\n",
              "      <button class=\"colab-df-convert\" onclick=\"convertToInteractive('df-d35abe83-2671-4b42-b70a-b853d8930a00')\"\n",
              "              title=\"Convert this dataframe to an interactive table.\"\n",
              "              style=\"display:none;\">\n",
              "        \n",
              "  <svg xmlns=\"http://www.w3.org/2000/svg\" height=\"24px\"viewBox=\"0 0 24 24\"\n",
              "       width=\"24px\">\n",
              "    <path d=\"M0 0h24v24H0V0z\" fill=\"none\"/>\n",
              "    <path d=\"M18.56 5.44l.94 2.06.94-2.06 2.06-.94-2.06-.94-.94-2.06-.94 2.06-2.06.94zm-11 1L8.5 8.5l.94-2.06 2.06-.94-2.06-.94L8.5 2.5l-.94 2.06-2.06.94zm10 10l.94 2.06.94-2.06 2.06-.94-2.06-.94-.94-2.06-.94 2.06-2.06.94z\"/><path d=\"M17.41 7.96l-1.37-1.37c-.4-.4-.92-.59-1.43-.59-.52 0-1.04.2-1.43.59L10.3 9.45l-7.72 7.72c-.78.78-.78 2.05 0 2.83L4 21.41c.39.39.9.59 1.41.59.51 0 1.02-.2 1.41-.59l7.78-7.78 2.81-2.81c.8-.78.8-2.07 0-2.86zM5.41 20L4 18.59l7.72-7.72 1.47 1.35L5.41 20z\"/>\n",
              "  </svg>\n",
              "      </button>\n",
              "      \n",
              "  <style>\n",
              "    .colab-df-container {\n",
              "      display:flex;\n",
              "      flex-wrap:wrap;\n",
              "      gap: 12px;\n",
              "    }\n",
              "\n",
              "    .colab-df-convert {\n",
              "      background-color: #E8F0FE;\n",
              "      border: none;\n",
              "      border-radius: 50%;\n",
              "      cursor: pointer;\n",
              "      display: none;\n",
              "      fill: #1967D2;\n",
              "      height: 32px;\n",
              "      padding: 0 0 0 0;\n",
              "      width: 32px;\n",
              "    }\n",
              "\n",
              "    .colab-df-convert:hover {\n",
              "      background-color: #E2EBFA;\n",
              "      box-shadow: 0px 1px 2px rgba(60, 64, 67, 0.3), 0px 1px 3px 1px rgba(60, 64, 67, 0.15);\n",
              "      fill: #174EA6;\n",
              "    }\n",
              "\n",
              "    [theme=dark] .colab-df-convert {\n",
              "      background-color: #3B4455;\n",
              "      fill: #D2E3FC;\n",
              "    }\n",
              "\n",
              "    [theme=dark] .colab-df-convert:hover {\n",
              "      background-color: #434B5C;\n",
              "      box-shadow: 0px 1px 3px 1px rgba(0, 0, 0, 0.15);\n",
              "      filter: drop-shadow(0px 1px 2px rgba(0, 0, 0, 0.3));\n",
              "      fill: #FFFFFF;\n",
              "    }\n",
              "  </style>\n",
              "\n",
              "      <script>\n",
              "        const buttonEl =\n",
              "          document.querySelector('#df-d35abe83-2671-4b42-b70a-b853d8930a00 button.colab-df-convert');\n",
              "        buttonEl.style.display =\n",
              "          google.colab.kernel.accessAllowed ? 'block' : 'none';\n",
              "\n",
              "        async function convertToInteractive(key) {\n",
              "          const element = document.querySelector('#df-d35abe83-2671-4b42-b70a-b853d8930a00');\n",
              "          const dataTable =\n",
              "            await google.colab.kernel.invokeFunction('convertToInteractive',\n",
              "                                                     [key], {});\n",
              "          if (!dataTable) return;\n",
              "\n",
              "          const docLinkHtml = 'Like what you see? Visit the ' +\n",
              "            '<a target=\"_blank\" href=https://colab.research.google.com/notebooks/data_table.ipynb>data table notebook</a>'\n",
              "            + ' to learn more about interactive tables.';\n",
              "          element.innerHTML = '';\n",
              "          dataTable['output_type'] = 'display_data';\n",
              "          await google.colab.output.renderOutput(dataTable, element);\n",
              "          const docLink = document.createElement('div');\n",
              "          docLink.innerHTML = docLinkHtml;\n",
              "          element.appendChild(docLink);\n",
              "        }\n",
              "      </script>\n",
              "    </div>\n",
              "  </div>\n",
              "  "
            ]
          },
          "metadata": {},
          "execution_count": 9
        }
      ]
    },
    {
      "cell_type": "code",
      "source": [
        "cd_df.head(15)\n"
      ],
      "metadata": {
        "colab": {
          "base_uri": "https://localhost:8080/",
          "height": 613
        },
        "id": "788O_zIpx7eo",
        "outputId": "df60f5c3-8317-4af4-d6a9-8f283f14cc27"
      },
      "execution_count": 10,
      "outputs": [
        {
          "output_type": "execute_result",
          "data": {
            "text/plain": [
              "    age           job   marital            education  default housing loan  \\\n",
              "0    41   blue-collar  divorced             basic.4y  unknown     yes   no   \n",
              "1    49  entrepreneur   married    university.degree  unknown     yes   no   \n",
              "2    49    technician   married             basic.9y       no      no   no   \n",
              "3    41    technician   married  professional.course  unknown     yes   no   \n",
              "4    45   blue-collar   married             basic.9y  unknown     yes   no   \n",
              "5    42   blue-collar   married             basic.9y       no     yes  yes   \n",
              "6    39     housemaid   married             basic.9y       no     yes   no   \n",
              "7    28       unknown    single              unknown  unknown     yes  yes   \n",
              "8    44      services   married          high.school       no     yes   no   \n",
              "9    42    technician   married  professional.course       no      no   no   \n",
              "10   42    management   married    university.degree       no      no   no   \n",
              "11   39      services   married          high.school  unknown     yes   no   \n",
              "12   42   blue-collar   married          high.school       no      no  yes   \n",
              "13   45     housemaid   married  professional.course  unknown     yes   no   \n",
              "14   31        admin.    single    university.degree       no      no   no   \n",
              "\n",
              "      contact month day_of_week  ...  campaign  pdays  previous     poutcome  \\\n",
              "0   telephone   may         mon  ...         1    999         0  nonexistent   \n",
              "1   telephone   may         mon  ...         1    999         0  nonexistent   \n",
              "2   telephone   may         mon  ...         1    999         0  nonexistent   \n",
              "3   telephone   may         mon  ...         1    999         0  nonexistent   \n",
              "4   telephone   may         mon  ...         1    999         0  nonexistent   \n",
              "5   telephone   may         mon  ...         2    999         0  nonexistent   \n",
              "6   telephone   may         mon  ...         3    999         0  nonexistent   \n",
              "7   telephone   may         tue  ...         1    999         0  nonexistent   \n",
              "8   telephone   may         tue  ...         1    999         0  nonexistent   \n",
              "9   telephone   may         tue  ...         1    999         0  nonexistent   \n",
              "10  telephone   may         tue  ...         1    999         0  nonexistent   \n",
              "11  telephone   may         tue  ...         1    999         0  nonexistent   \n",
              "12  telephone   may         tue  ...         3    999         0  nonexistent   \n",
              "13  telephone   may         tue  ...         2    999         0  nonexistent   \n",
              "14  telephone   may         wed  ...         1    999         0  nonexistent   \n",
              "\n",
              "   emp.var.rate  cons.price.idx  cons.conf.idx  euribor3m  nr.employed    y  \n",
              "0           1.1          93.994          -36.4      4.857       5191.0  yes  \n",
              "1           1.1          93.994          -36.4      4.857       5191.0  yes  \n",
              "2           1.1          93.994          -36.4      4.857       5191.0  yes  \n",
              "3           1.1          93.994          -36.4      4.857       5191.0  yes  \n",
              "4           1.1          93.994          -36.4      4.857       5191.0  yes  \n",
              "5           1.1          93.994          -36.4      4.857       5191.0  yes  \n",
              "6           1.1          93.994          -36.4      4.857       5191.0  yes  \n",
              "7           1.1          93.994          -36.4      4.857       5191.0  yes  \n",
              "8           1.1          93.994          -36.4      4.857       5191.0  yes  \n",
              "9           1.1          93.994          -36.4      4.857       5191.0  yes  \n",
              "10          1.1          93.994          -36.4      4.857       5191.0  yes  \n",
              "11          1.1          93.994          -36.4      4.857       5191.0  yes  \n",
              "12          1.1          93.994          -36.4      4.857       5191.0  yes  \n",
              "13          1.1          93.994          -36.4      4.857       5191.0  yes  \n",
              "14          1.1          93.994          -36.4      4.856       5191.0  yes  \n",
              "\n",
              "[15 rows x 21 columns]"
            ],
            "text/html": [
              "\n",
              "  <div id=\"df-e7c719a2-3fe1-4347-8b58-59eb282f59c6\">\n",
              "    <div class=\"colab-df-container\">\n",
              "      <div>\n",
              "<style scoped>\n",
              "    .dataframe tbody tr th:only-of-type {\n",
              "        vertical-align: middle;\n",
              "    }\n",
              "\n",
              "    .dataframe tbody tr th {\n",
              "        vertical-align: top;\n",
              "    }\n",
              "\n",
              "    .dataframe thead th {\n",
              "        text-align: right;\n",
              "    }\n",
              "</style>\n",
              "<table border=\"1\" class=\"dataframe\">\n",
              "  <thead>\n",
              "    <tr style=\"text-align: right;\">\n",
              "      <th></th>\n",
              "      <th>age</th>\n",
              "      <th>job</th>\n",
              "      <th>marital</th>\n",
              "      <th>education</th>\n",
              "      <th>default</th>\n",
              "      <th>housing</th>\n",
              "      <th>loan</th>\n",
              "      <th>contact</th>\n",
              "      <th>month</th>\n",
              "      <th>day_of_week</th>\n",
              "      <th>...</th>\n",
              "      <th>campaign</th>\n",
              "      <th>pdays</th>\n",
              "      <th>previous</th>\n",
              "      <th>poutcome</th>\n",
              "      <th>emp.var.rate</th>\n",
              "      <th>cons.price.idx</th>\n",
              "      <th>cons.conf.idx</th>\n",
              "      <th>euribor3m</th>\n",
              "      <th>nr.employed</th>\n",
              "      <th>y</th>\n",
              "    </tr>\n",
              "  </thead>\n",
              "  <tbody>\n",
              "    <tr>\n",
              "      <th>0</th>\n",
              "      <td>41</td>\n",
              "      <td>blue-collar</td>\n",
              "      <td>divorced</td>\n",
              "      <td>basic.4y</td>\n",
              "      <td>unknown</td>\n",
              "      <td>yes</td>\n",
              "      <td>no</td>\n",
              "      <td>telephone</td>\n",
              "      <td>may</td>\n",
              "      <td>mon</td>\n",
              "      <td>...</td>\n",
              "      <td>1</td>\n",
              "      <td>999</td>\n",
              "      <td>0</td>\n",
              "      <td>nonexistent</td>\n",
              "      <td>1.1</td>\n",
              "      <td>93.994</td>\n",
              "      <td>-36.4</td>\n",
              "      <td>4.857</td>\n",
              "      <td>5191.0</td>\n",
              "      <td>yes</td>\n",
              "    </tr>\n",
              "    <tr>\n",
              "      <th>1</th>\n",
              "      <td>49</td>\n",
              "      <td>entrepreneur</td>\n",
              "      <td>married</td>\n",
              "      <td>university.degree</td>\n",
              "      <td>unknown</td>\n",
              "      <td>yes</td>\n",
              "      <td>no</td>\n",
              "      <td>telephone</td>\n",
              "      <td>may</td>\n",
              "      <td>mon</td>\n",
              "      <td>...</td>\n",
              "      <td>1</td>\n",
              "      <td>999</td>\n",
              "      <td>0</td>\n",
              "      <td>nonexistent</td>\n",
              "      <td>1.1</td>\n",
              "      <td>93.994</td>\n",
              "      <td>-36.4</td>\n",
              "      <td>4.857</td>\n",
              "      <td>5191.0</td>\n",
              "      <td>yes</td>\n",
              "    </tr>\n",
              "    <tr>\n",
              "      <th>2</th>\n",
              "      <td>49</td>\n",
              "      <td>technician</td>\n",
              "      <td>married</td>\n",
              "      <td>basic.9y</td>\n",
              "      <td>no</td>\n",
              "      <td>no</td>\n",
              "      <td>no</td>\n",
              "      <td>telephone</td>\n",
              "      <td>may</td>\n",
              "      <td>mon</td>\n",
              "      <td>...</td>\n",
              "      <td>1</td>\n",
              "      <td>999</td>\n",
              "      <td>0</td>\n",
              "      <td>nonexistent</td>\n",
              "      <td>1.1</td>\n",
              "      <td>93.994</td>\n",
              "      <td>-36.4</td>\n",
              "      <td>4.857</td>\n",
              "      <td>5191.0</td>\n",
              "      <td>yes</td>\n",
              "    </tr>\n",
              "    <tr>\n",
              "      <th>3</th>\n",
              "      <td>41</td>\n",
              "      <td>technician</td>\n",
              "      <td>married</td>\n",
              "      <td>professional.course</td>\n",
              "      <td>unknown</td>\n",
              "      <td>yes</td>\n",
              "      <td>no</td>\n",
              "      <td>telephone</td>\n",
              "      <td>may</td>\n",
              "      <td>mon</td>\n",
              "      <td>...</td>\n",
              "      <td>1</td>\n",
              "      <td>999</td>\n",
              "      <td>0</td>\n",
              "      <td>nonexistent</td>\n",
              "      <td>1.1</td>\n",
              "      <td>93.994</td>\n",
              "      <td>-36.4</td>\n",
              "      <td>4.857</td>\n",
              "      <td>5191.0</td>\n",
              "      <td>yes</td>\n",
              "    </tr>\n",
              "    <tr>\n",
              "      <th>4</th>\n",
              "      <td>45</td>\n",
              "      <td>blue-collar</td>\n",
              "      <td>married</td>\n",
              "      <td>basic.9y</td>\n",
              "      <td>unknown</td>\n",
              "      <td>yes</td>\n",
              "      <td>no</td>\n",
              "      <td>telephone</td>\n",
              "      <td>may</td>\n",
              "      <td>mon</td>\n",
              "      <td>...</td>\n",
              "      <td>1</td>\n",
              "      <td>999</td>\n",
              "      <td>0</td>\n",
              "      <td>nonexistent</td>\n",
              "      <td>1.1</td>\n",
              "      <td>93.994</td>\n",
              "      <td>-36.4</td>\n",
              "      <td>4.857</td>\n",
              "      <td>5191.0</td>\n",
              "      <td>yes</td>\n",
              "    </tr>\n",
              "    <tr>\n",
              "      <th>5</th>\n",
              "      <td>42</td>\n",
              "      <td>blue-collar</td>\n",
              "      <td>married</td>\n",
              "      <td>basic.9y</td>\n",
              "      <td>no</td>\n",
              "      <td>yes</td>\n",
              "      <td>yes</td>\n",
              "      <td>telephone</td>\n",
              "      <td>may</td>\n",
              "      <td>mon</td>\n",
              "      <td>...</td>\n",
              "      <td>2</td>\n",
              "      <td>999</td>\n",
              "      <td>0</td>\n",
              "      <td>nonexistent</td>\n",
              "      <td>1.1</td>\n",
              "      <td>93.994</td>\n",
              "      <td>-36.4</td>\n",
              "      <td>4.857</td>\n",
              "      <td>5191.0</td>\n",
              "      <td>yes</td>\n",
              "    </tr>\n",
              "    <tr>\n",
              "      <th>6</th>\n",
              "      <td>39</td>\n",
              "      <td>housemaid</td>\n",
              "      <td>married</td>\n",
              "      <td>basic.9y</td>\n",
              "      <td>no</td>\n",
              "      <td>yes</td>\n",
              "      <td>no</td>\n",
              "      <td>telephone</td>\n",
              "      <td>may</td>\n",
              "      <td>mon</td>\n",
              "      <td>...</td>\n",
              "      <td>3</td>\n",
              "      <td>999</td>\n",
              "      <td>0</td>\n",
              "      <td>nonexistent</td>\n",
              "      <td>1.1</td>\n",
              "      <td>93.994</td>\n",
              "      <td>-36.4</td>\n",
              "      <td>4.857</td>\n",
              "      <td>5191.0</td>\n",
              "      <td>yes</td>\n",
              "    </tr>\n",
              "    <tr>\n",
              "      <th>7</th>\n",
              "      <td>28</td>\n",
              "      <td>unknown</td>\n",
              "      <td>single</td>\n",
              "      <td>unknown</td>\n",
              "      <td>unknown</td>\n",
              "      <td>yes</td>\n",
              "      <td>yes</td>\n",
              "      <td>telephone</td>\n",
              "      <td>may</td>\n",
              "      <td>tue</td>\n",
              "      <td>...</td>\n",
              "      <td>1</td>\n",
              "      <td>999</td>\n",
              "      <td>0</td>\n",
              "      <td>nonexistent</td>\n",
              "      <td>1.1</td>\n",
              "      <td>93.994</td>\n",
              "      <td>-36.4</td>\n",
              "      <td>4.857</td>\n",
              "      <td>5191.0</td>\n",
              "      <td>yes</td>\n",
              "    </tr>\n",
              "    <tr>\n",
              "      <th>8</th>\n",
              "      <td>44</td>\n",
              "      <td>services</td>\n",
              "      <td>married</td>\n",
              "      <td>high.school</td>\n",
              "      <td>no</td>\n",
              "      <td>yes</td>\n",
              "      <td>no</td>\n",
              "      <td>telephone</td>\n",
              "      <td>may</td>\n",
              "      <td>tue</td>\n",
              "      <td>...</td>\n",
              "      <td>1</td>\n",
              "      <td>999</td>\n",
              "      <td>0</td>\n",
              "      <td>nonexistent</td>\n",
              "      <td>1.1</td>\n",
              "      <td>93.994</td>\n",
              "      <td>-36.4</td>\n",
              "      <td>4.857</td>\n",
              "      <td>5191.0</td>\n",
              "      <td>yes</td>\n",
              "    </tr>\n",
              "    <tr>\n",
              "      <th>9</th>\n",
              "      <td>42</td>\n",
              "      <td>technician</td>\n",
              "      <td>married</td>\n",
              "      <td>professional.course</td>\n",
              "      <td>no</td>\n",
              "      <td>no</td>\n",
              "      <td>no</td>\n",
              "      <td>telephone</td>\n",
              "      <td>may</td>\n",
              "      <td>tue</td>\n",
              "      <td>...</td>\n",
              "      <td>1</td>\n",
              "      <td>999</td>\n",
              "      <td>0</td>\n",
              "      <td>nonexistent</td>\n",
              "      <td>1.1</td>\n",
              "      <td>93.994</td>\n",
              "      <td>-36.4</td>\n",
              "      <td>4.857</td>\n",
              "      <td>5191.0</td>\n",
              "      <td>yes</td>\n",
              "    </tr>\n",
              "    <tr>\n",
              "      <th>10</th>\n",
              "      <td>42</td>\n",
              "      <td>management</td>\n",
              "      <td>married</td>\n",
              "      <td>university.degree</td>\n",
              "      <td>no</td>\n",
              "      <td>no</td>\n",
              "      <td>no</td>\n",
              "      <td>telephone</td>\n",
              "      <td>may</td>\n",
              "      <td>tue</td>\n",
              "      <td>...</td>\n",
              "      <td>1</td>\n",
              "      <td>999</td>\n",
              "      <td>0</td>\n",
              "      <td>nonexistent</td>\n",
              "      <td>1.1</td>\n",
              "      <td>93.994</td>\n",
              "      <td>-36.4</td>\n",
              "      <td>4.857</td>\n",
              "      <td>5191.0</td>\n",
              "      <td>yes</td>\n",
              "    </tr>\n",
              "    <tr>\n",
              "      <th>11</th>\n",
              "      <td>39</td>\n",
              "      <td>services</td>\n",
              "      <td>married</td>\n",
              "      <td>high.school</td>\n",
              "      <td>unknown</td>\n",
              "      <td>yes</td>\n",
              "      <td>no</td>\n",
              "      <td>telephone</td>\n",
              "      <td>may</td>\n",
              "      <td>tue</td>\n",
              "      <td>...</td>\n",
              "      <td>1</td>\n",
              "      <td>999</td>\n",
              "      <td>0</td>\n",
              "      <td>nonexistent</td>\n",
              "      <td>1.1</td>\n",
              "      <td>93.994</td>\n",
              "      <td>-36.4</td>\n",
              "      <td>4.857</td>\n",
              "      <td>5191.0</td>\n",
              "      <td>yes</td>\n",
              "    </tr>\n",
              "    <tr>\n",
              "      <th>12</th>\n",
              "      <td>42</td>\n",
              "      <td>blue-collar</td>\n",
              "      <td>married</td>\n",
              "      <td>high.school</td>\n",
              "      <td>no</td>\n",
              "      <td>no</td>\n",
              "      <td>yes</td>\n",
              "      <td>telephone</td>\n",
              "      <td>may</td>\n",
              "      <td>tue</td>\n",
              "      <td>...</td>\n",
              "      <td>3</td>\n",
              "      <td>999</td>\n",
              "      <td>0</td>\n",
              "      <td>nonexistent</td>\n",
              "      <td>1.1</td>\n",
              "      <td>93.994</td>\n",
              "      <td>-36.4</td>\n",
              "      <td>4.857</td>\n",
              "      <td>5191.0</td>\n",
              "      <td>yes</td>\n",
              "    </tr>\n",
              "    <tr>\n",
              "      <th>13</th>\n",
              "      <td>45</td>\n",
              "      <td>housemaid</td>\n",
              "      <td>married</td>\n",
              "      <td>professional.course</td>\n",
              "      <td>unknown</td>\n",
              "      <td>yes</td>\n",
              "      <td>no</td>\n",
              "      <td>telephone</td>\n",
              "      <td>may</td>\n",
              "      <td>tue</td>\n",
              "      <td>...</td>\n",
              "      <td>2</td>\n",
              "      <td>999</td>\n",
              "      <td>0</td>\n",
              "      <td>nonexistent</td>\n",
              "      <td>1.1</td>\n",
              "      <td>93.994</td>\n",
              "      <td>-36.4</td>\n",
              "      <td>4.857</td>\n",
              "      <td>5191.0</td>\n",
              "      <td>yes</td>\n",
              "    </tr>\n",
              "    <tr>\n",
              "      <th>14</th>\n",
              "      <td>31</td>\n",
              "      <td>admin.</td>\n",
              "      <td>single</td>\n",
              "      <td>university.degree</td>\n",
              "      <td>no</td>\n",
              "      <td>no</td>\n",
              "      <td>no</td>\n",
              "      <td>telephone</td>\n",
              "      <td>may</td>\n",
              "      <td>wed</td>\n",
              "      <td>...</td>\n",
              "      <td>1</td>\n",
              "      <td>999</td>\n",
              "      <td>0</td>\n",
              "      <td>nonexistent</td>\n",
              "      <td>1.1</td>\n",
              "      <td>93.994</td>\n",
              "      <td>-36.4</td>\n",
              "      <td>4.856</td>\n",
              "      <td>5191.0</td>\n",
              "      <td>yes</td>\n",
              "    </tr>\n",
              "  </tbody>\n",
              "</table>\n",
              "<p>15 rows × 21 columns</p>\n",
              "</div>\n",
              "      <button class=\"colab-df-convert\" onclick=\"convertToInteractive('df-e7c719a2-3fe1-4347-8b58-59eb282f59c6')\"\n",
              "              title=\"Convert this dataframe to an interactive table.\"\n",
              "              style=\"display:none;\">\n",
              "        \n",
              "  <svg xmlns=\"http://www.w3.org/2000/svg\" height=\"24px\"viewBox=\"0 0 24 24\"\n",
              "       width=\"24px\">\n",
              "    <path d=\"M0 0h24v24H0V0z\" fill=\"none\"/>\n",
              "    <path d=\"M18.56 5.44l.94 2.06.94-2.06 2.06-.94-2.06-.94-.94-2.06-.94 2.06-2.06.94zm-11 1L8.5 8.5l.94-2.06 2.06-.94-2.06-.94L8.5 2.5l-.94 2.06-2.06.94zm10 10l.94 2.06.94-2.06 2.06-.94-2.06-.94-.94-2.06-.94 2.06-2.06.94z\"/><path d=\"M17.41 7.96l-1.37-1.37c-.4-.4-.92-.59-1.43-.59-.52 0-1.04.2-1.43.59L10.3 9.45l-7.72 7.72c-.78.78-.78 2.05 0 2.83L4 21.41c.39.39.9.59 1.41.59.51 0 1.02-.2 1.41-.59l7.78-7.78 2.81-2.81c.8-.78.8-2.07 0-2.86zM5.41 20L4 18.59l7.72-7.72 1.47 1.35L5.41 20z\"/>\n",
              "  </svg>\n",
              "      </button>\n",
              "      \n",
              "  <style>\n",
              "    .colab-df-container {\n",
              "      display:flex;\n",
              "      flex-wrap:wrap;\n",
              "      gap: 12px;\n",
              "    }\n",
              "\n",
              "    .colab-df-convert {\n",
              "      background-color: #E8F0FE;\n",
              "      border: none;\n",
              "      border-radius: 50%;\n",
              "      cursor: pointer;\n",
              "      display: none;\n",
              "      fill: #1967D2;\n",
              "      height: 32px;\n",
              "      padding: 0 0 0 0;\n",
              "      width: 32px;\n",
              "    }\n",
              "\n",
              "    .colab-df-convert:hover {\n",
              "      background-color: #E2EBFA;\n",
              "      box-shadow: 0px 1px 2px rgba(60, 64, 67, 0.3), 0px 1px 3px 1px rgba(60, 64, 67, 0.15);\n",
              "      fill: #174EA6;\n",
              "    }\n",
              "\n",
              "    [theme=dark] .colab-df-convert {\n",
              "      background-color: #3B4455;\n",
              "      fill: #D2E3FC;\n",
              "    }\n",
              "\n",
              "    [theme=dark] .colab-df-convert:hover {\n",
              "      background-color: #434B5C;\n",
              "      box-shadow: 0px 1px 3px 1px rgba(0, 0, 0, 0.15);\n",
              "      filter: drop-shadow(0px 1px 2px rgba(0, 0, 0, 0.3));\n",
              "      fill: #FFFFFF;\n",
              "    }\n",
              "  </style>\n",
              "\n",
              "      <script>\n",
              "        const buttonEl =\n",
              "          document.querySelector('#df-e7c719a2-3fe1-4347-8b58-59eb282f59c6 button.colab-df-convert');\n",
              "        buttonEl.style.display =\n",
              "          google.colab.kernel.accessAllowed ? 'block' : 'none';\n",
              "\n",
              "        async function convertToInteractive(key) {\n",
              "          const element = document.querySelector('#df-e7c719a2-3fe1-4347-8b58-59eb282f59c6');\n",
              "          const dataTable =\n",
              "            await google.colab.kernel.invokeFunction('convertToInteractive',\n",
              "                                                     [key], {});\n",
              "          if (!dataTable) return;\n",
              "\n",
              "          const docLinkHtml = 'Like what you see? Visit the ' +\n",
              "            '<a target=\"_blank\" href=https://colab.research.google.com/notebooks/data_table.ipynb>data table notebook</a>'\n",
              "            + ' to learn more about interactive tables.';\n",
              "          element.innerHTML = '';\n",
              "          dataTable['output_type'] = 'display_data';\n",
              "          await google.colab.output.renderOutput(dataTable, element);\n",
              "          const docLink = document.createElement('div');\n",
              "          docLink.innerHTML = docLinkHtml;\n",
              "          element.appendChild(docLink);\n",
              "        }\n",
              "      </script>\n",
              "    </div>\n",
              "  </div>\n",
              "  "
            ]
          },
          "metadata": {},
          "execution_count": 10
        }
      ]
    },
    {
      "cell_type": "markdown",
      "source": [
        "###D:Convert integer variables to a float datatype"
      ],
      "metadata": {
        "id": "vuS6YZPOx5aW"
      }
    },
    {
      "cell_type": "code",
      "source": [
        "int_list = list(cd_df.select_dtypes(include='int64').columns)\n",
        "int_list"
      ],
      "metadata": {
        "colab": {
          "base_uri": "https://localhost:8080/"
        },
        "id": "CFou_FG4yIjY",
        "outputId": "8e3480f2-e7cc-4881-aba2-7b77d981e3fa"
      },
      "execution_count": 11,
      "outputs": [
        {
          "output_type": "execute_result",
          "data": {
            "text/plain": [
              "['age', 'duration', 'campaign', 'pdays', 'previous']"
            ]
          },
          "metadata": {},
          "execution_count": 11
        }
      ]
    },
    {
      "cell_type": "code",
      "source": [
        "cd_df[int_list] = cd_df[int_list].astype('float64')\n"
      ],
      "metadata": {
        "id": "OPvS5fCIyJkd"
      },
      "execution_count": 12,
      "outputs": []
    },
    {
      "cell_type": "markdown",
      "source": [
        "###E: Handle y variable"
      ],
      "metadata": {
        "id": "NLG4Y96PyKoD"
      }
    },
    {
      "cell_type": "code",
      "source": [
        "#extract y variable\n",
        "y_target = cd_df.pop('y')\n",
        "\n",
        "#index y variable\n",
        "y_target = pd.get_dummies(y_target,drop_first=True)\n",
        "\n",
        "#add back to df\n",
        "cd_df['y_target'] = y_target"
      ],
      "metadata": {
        "id": "EFynJpW3yNqL"
      },
      "execution_count": 13,
      "outputs": []
    },
    {
      "cell_type": "markdown",
      "source": [
        "###F: Convert all object variables to category datatypes\n"
      ],
      "metadata": {
        "id": "oIV9RTFGyPLn"
      }
    },
    {
      "cell_type": "code",
      "source": [
        "object_list = list(cd_df.select_dtypes(include='object').columns)\n",
        "cd_df[object_list] = cd_df[object_list].astype('category')"
      ],
      "metadata": {
        "id": "EBP8a8QXyQ4u"
      },
      "execution_count": 14,
      "outputs": []
    },
    {
      "cell_type": "code",
      "source": [
        "cd_df.info()\n"
      ],
      "metadata": {
        "colab": {
          "base_uri": "https://localhost:8080/"
        },
        "id": "6FL2o_pyyUPA",
        "outputId": "9fbcf002-ad4a-4726-cf92-eda1ee37b9a9"
      },
      "execution_count": 15,
      "outputs": [
        {
          "output_type": "stream",
          "name": "stdout",
          "text": [
            "<class 'pandas.core.frame.DataFrame'>\n",
            "RangeIndex: 9280 entries, 0 to 9279\n",
            "Data columns (total 21 columns):\n",
            " #   Column          Non-Null Count  Dtype   \n",
            "---  ------          --------------  -----   \n",
            " 0   age             9280 non-null   float64 \n",
            " 1   job             9280 non-null   category\n",
            " 2   marital         9280 non-null   category\n",
            " 3   education       9280 non-null   category\n",
            " 4   default         9280 non-null   category\n",
            " 5   housing         9280 non-null   category\n",
            " 6   loan            9280 non-null   category\n",
            " 7   contact         9280 non-null   category\n",
            " 8   month           9280 non-null   category\n",
            " 9   day_of_week     9280 non-null   category\n",
            " 10  duration        9280 non-null   float64 \n",
            " 11  campaign        9280 non-null   float64 \n",
            " 12  pdays           9280 non-null   float64 \n",
            " 13  previous        9280 non-null   float64 \n",
            " 14  poutcome        9280 non-null   category\n",
            " 15  emp.var.rate    9280 non-null   float64 \n",
            " 16  cons.price.idx  9280 non-null   float64 \n",
            " 17  cons.conf.idx   9280 non-null   float64 \n",
            " 18  euribor3m       9280 non-null   float64 \n",
            " 19  nr.employed     9280 non-null   float64 \n",
            " 20  y_target        9280 non-null   uint8   \n",
            "dtypes: category(10), float64(10), uint8(1)\n",
            "memory usage: 827.0 KB\n"
          ]
        }
      ]
    },
    {
      "cell_type": "markdown",
      "source": [
        "###G: One-hot encode the categorical variables\n"
      ],
      "metadata": {
        "id": "Mpht_9vFyXsI"
      }
    },
    {
      "cell_type": "code",
      "source": [
        "category_list = list(cd_df.select_dtypes(include='category').columns)\n",
        "category_list"
      ],
      "metadata": {
        "colab": {
          "base_uri": "https://localhost:8080/"
        },
        "id": "g1i58ZbkyYwY",
        "outputId": "f44077c6-7e4a-44b0-fb82-87e300a16e37"
      },
      "execution_count": 16,
      "outputs": [
        {
          "output_type": "execute_result",
          "data": {
            "text/plain": [
              "['job',\n",
              " 'marital',\n",
              " 'education',\n",
              " 'default',\n",
              " 'housing',\n",
              " 'loan',\n",
              " 'contact',\n",
              " 'month',\n",
              " 'day_of_week',\n",
              " 'poutcome']"
            ]
          },
          "metadata": {},
          "execution_count": 16
        }
      ]
    },
    {
      "cell_type": "code",
      "source": [
        "cd_onehot_df = pd.get_dummies(cd_df,columns=category_list)\n"
      ],
      "metadata": {
        "id": "5PFxHhemyaAj"
      },
      "execution_count": 17,
      "outputs": []
    },
    {
      "cell_type": "markdown",
      "source": [
        "###H: Splittings"
      ],
      "metadata": {
        "id": "VXtNUfpSybtb"
      }
    },
    {
      "cell_type": "code",
      "source": [
        "random_state = 0"
      ],
      "metadata": {
        "id": "t8G49HXPyekP"
      },
      "execution_count": 18,
      "outputs": []
    },
    {
      "cell_type": "code",
      "source": [
        "# independent/dependent variable for the training and testing datasets\n",
        "X_train, X_test, y_train, y_test = train_test_split(cd_onehot_df.drop('y_target',axis=1),\n",
        "                                                    cd_onehot_df['y_target'],\n",
        "                                                    test_size=0.2,\n",
        "                                                    random_state=random_state)\n",
        "\n",
        "# independent/dependent variable for full dataset\n",
        "X = cd_onehot_df\n",
        "y = cd_onehot_df.pop('y_target')"
      ],
      "metadata": {
        "id": "5JeXKs7Lyhkr"
      },
      "execution_count": 19,
      "outputs": []
    },
    {
      "cell_type": "markdown",
      "source": [
        "##Task II: Simple Model\n"
      ],
      "metadata": {
        "id": "ngSg3Hkayj8V"
      }
    },
    {
      "cell_type": "markdown",
      "source": [
        "###A:5 fold model on full dataset\n"
      ],
      "metadata": {
        "id": "EeEBlXZuymyQ"
      }
    },
    {
      "cell_type": "code",
      "source": [
        "#define\n",
        "dtmodel = DecisionTreeClassifier(random_state=random_state).fit(X,y)\n",
        "\n",
        "#5-fold\n",
        "five_fold = cross_validate(dtmodel,X,y,cv=5,scoring=['f1'],return_train_score=True)"
      ],
      "metadata": {
        "id": "OPtaH8TqymeD"
      },
      "execution_count": 20,
      "outputs": []
    },
    {
      "cell_type": "code",
      "source": [
        "pd.DataFrame(five_fold)\n"
      ],
      "metadata": {
        "colab": {
          "base_uri": "https://localhost:8080/",
          "height": 206
        },
        "id": "aVLDE2coyqNi",
        "outputId": "5e4baf0a-bb03-41a1-ab69-d449dcebde42"
      },
      "execution_count": 21,
      "outputs": [
        {
          "output_type": "execute_result",
          "data": {
            "text/plain": [
              "   fit_time  score_time   test_f1  train_f1\n",
              "0  0.075135    0.011425  0.060718       1.0\n",
              "1  0.063527    0.005357  0.282943       1.0\n",
              "2  0.065974    0.005228  0.124890       1.0\n",
              "3  0.067241    0.005162  0.187026       1.0\n",
              "4  0.073887    0.005236  0.167939       1.0"
            ],
            "text/html": [
              "\n",
              "  <div id=\"df-b223d5ab-3053-4b69-be3f-56a315e269c1\">\n",
              "    <div class=\"colab-df-container\">\n",
              "      <div>\n",
              "<style scoped>\n",
              "    .dataframe tbody tr th:only-of-type {\n",
              "        vertical-align: middle;\n",
              "    }\n",
              "\n",
              "    .dataframe tbody tr th {\n",
              "        vertical-align: top;\n",
              "    }\n",
              "\n",
              "    .dataframe thead th {\n",
              "        text-align: right;\n",
              "    }\n",
              "</style>\n",
              "<table border=\"1\" class=\"dataframe\">\n",
              "  <thead>\n",
              "    <tr style=\"text-align: right;\">\n",
              "      <th></th>\n",
              "      <th>fit_time</th>\n",
              "      <th>score_time</th>\n",
              "      <th>test_f1</th>\n",
              "      <th>train_f1</th>\n",
              "    </tr>\n",
              "  </thead>\n",
              "  <tbody>\n",
              "    <tr>\n",
              "      <th>0</th>\n",
              "      <td>0.075135</td>\n",
              "      <td>0.011425</td>\n",
              "      <td>0.060718</td>\n",
              "      <td>1.0</td>\n",
              "    </tr>\n",
              "    <tr>\n",
              "      <th>1</th>\n",
              "      <td>0.063527</td>\n",
              "      <td>0.005357</td>\n",
              "      <td>0.282943</td>\n",
              "      <td>1.0</td>\n",
              "    </tr>\n",
              "    <tr>\n",
              "      <th>2</th>\n",
              "      <td>0.065974</td>\n",
              "      <td>0.005228</td>\n",
              "      <td>0.124890</td>\n",
              "      <td>1.0</td>\n",
              "    </tr>\n",
              "    <tr>\n",
              "      <th>3</th>\n",
              "      <td>0.067241</td>\n",
              "      <td>0.005162</td>\n",
              "      <td>0.187026</td>\n",
              "      <td>1.0</td>\n",
              "    </tr>\n",
              "    <tr>\n",
              "      <th>4</th>\n",
              "      <td>0.073887</td>\n",
              "      <td>0.005236</td>\n",
              "      <td>0.167939</td>\n",
              "      <td>1.0</td>\n",
              "    </tr>\n",
              "  </tbody>\n",
              "</table>\n",
              "</div>\n",
              "      <button class=\"colab-df-convert\" onclick=\"convertToInteractive('df-b223d5ab-3053-4b69-be3f-56a315e269c1')\"\n",
              "              title=\"Convert this dataframe to an interactive table.\"\n",
              "              style=\"display:none;\">\n",
              "        \n",
              "  <svg xmlns=\"http://www.w3.org/2000/svg\" height=\"24px\"viewBox=\"0 0 24 24\"\n",
              "       width=\"24px\">\n",
              "    <path d=\"M0 0h24v24H0V0z\" fill=\"none\"/>\n",
              "    <path d=\"M18.56 5.44l.94 2.06.94-2.06 2.06-.94-2.06-.94-.94-2.06-.94 2.06-2.06.94zm-11 1L8.5 8.5l.94-2.06 2.06-.94-2.06-.94L8.5 2.5l-.94 2.06-2.06.94zm10 10l.94 2.06.94-2.06 2.06-.94-2.06-.94-.94-2.06-.94 2.06-2.06.94z\"/><path d=\"M17.41 7.96l-1.37-1.37c-.4-.4-.92-.59-1.43-.59-.52 0-1.04.2-1.43.59L10.3 9.45l-7.72 7.72c-.78.78-.78 2.05 0 2.83L4 21.41c.39.39.9.59 1.41.59.51 0 1.02-.2 1.41-.59l7.78-7.78 2.81-2.81c.8-.78.8-2.07 0-2.86zM5.41 20L4 18.59l7.72-7.72 1.47 1.35L5.41 20z\"/>\n",
              "  </svg>\n",
              "      </button>\n",
              "      \n",
              "  <style>\n",
              "    .colab-df-container {\n",
              "      display:flex;\n",
              "      flex-wrap:wrap;\n",
              "      gap: 12px;\n",
              "    }\n",
              "\n",
              "    .colab-df-convert {\n",
              "      background-color: #E8F0FE;\n",
              "      border: none;\n",
              "      border-radius: 50%;\n",
              "      cursor: pointer;\n",
              "      display: none;\n",
              "      fill: #1967D2;\n",
              "      height: 32px;\n",
              "      padding: 0 0 0 0;\n",
              "      width: 32px;\n",
              "    }\n",
              "\n",
              "    .colab-df-convert:hover {\n",
              "      background-color: #E2EBFA;\n",
              "      box-shadow: 0px 1px 2px rgba(60, 64, 67, 0.3), 0px 1px 3px 1px rgba(60, 64, 67, 0.15);\n",
              "      fill: #174EA6;\n",
              "    }\n",
              "\n",
              "    [theme=dark] .colab-df-convert {\n",
              "      background-color: #3B4455;\n",
              "      fill: #D2E3FC;\n",
              "    }\n",
              "\n",
              "    [theme=dark] .colab-df-convert:hover {\n",
              "      background-color: #434B5C;\n",
              "      box-shadow: 0px 1px 3px 1px rgba(0, 0, 0, 0.15);\n",
              "      filter: drop-shadow(0px 1px 2px rgba(0, 0, 0, 0.3));\n",
              "      fill: #FFFFFF;\n",
              "    }\n",
              "  </style>\n",
              "\n",
              "      <script>\n",
              "        const buttonEl =\n",
              "          document.querySelector('#df-b223d5ab-3053-4b69-be3f-56a315e269c1 button.colab-df-convert');\n",
              "        buttonEl.style.display =\n",
              "          google.colab.kernel.accessAllowed ? 'block' : 'none';\n",
              "\n",
              "        async function convertToInteractive(key) {\n",
              "          const element = document.querySelector('#df-b223d5ab-3053-4b69-be3f-56a315e269c1');\n",
              "          const dataTable =\n",
              "            await google.colab.kernel.invokeFunction('convertToInteractive',\n",
              "                                                     [key], {});\n",
              "          if (!dataTable) return;\n",
              "\n",
              "          const docLinkHtml = 'Like what you see? Visit the ' +\n",
              "            '<a target=\"_blank\" href=https://colab.research.google.com/notebooks/data_table.ipynb>data table notebook</a>'\n",
              "            + ' to learn more about interactive tables.';\n",
              "          element.innerHTML = '';\n",
              "          dataTable['output_type'] = 'display_data';\n",
              "          await google.colab.output.renderOutput(dataTable, element);\n",
              "          const docLink = document.createElement('div');\n",
              "          docLink.innerHTML = docLinkHtml;\n",
              "          element.appendChild(docLink);\n",
              "        }\n",
              "      </script>\n",
              "    </div>\n",
              "  </div>\n",
              "  "
            ]
          },
          "metadata": {},
          "execution_count": 21
        }
      ]
    },
    {
      "cell_type": "markdown",
      "source": [
        "###B: Display results as a dataframe\n"
      ],
      "metadata": {
        "id": "61Z28MY5ysAx"
      }
    },
    {
      "cell_type": "code",
      "source": [
        "## Display the Cross-Validation Results as a Dataframe\n",
        "dtmodel_df = pd.DataFrame(five_fold).agg('mean').round(5)\n",
        "dtmodel_df\n"
      ],
      "metadata": {
        "colab": {
          "base_uri": "https://localhost:8080/"
        },
        "id": "of0mKYrVys6M",
        "outputId": "047a5608-b3ef-4255-affa-82049e98aef9"
      },
      "execution_count": 22,
      "outputs": [
        {
          "output_type": "execute_result",
          "data": {
            "text/plain": [
              "fit_time      0.06915\n",
              "score_time    0.00648\n",
              "test_f1       0.16470\n",
              "train_f1      1.00000\n",
              "dtype: float64"
            ]
          },
          "metadata": {},
          "execution_count": 22
        }
      ]
    },
    {
      "cell_type": "markdown",
      "source": [
        "##Task III: Grid Searches\n"
      ],
      "metadata": {
        "id": "3QIWVWthyvZk"
      }
    },
    {
      "cell_type": "markdown",
      "source": [
        "###A: RandomForestClassifier() model\n"
      ],
      "metadata": {
        "id": "WXIylqJbyyOD"
      }
    },
    {
      "cell_type": "code",
      "source": [
        "# Choose Parameter Options\n",
        "parameters = {'max_depth':list(range(5,20)),\n",
        "              'n_estimators':[2,3,4,5,6,7,8,9,10,100,300,500,700,900,1000]}\n",
        "\n",
        "# Sequential Grid Search\n",
        "rf_grid = GridSearchCV(RandomForestClassifier(n_jobs=-1,random_state=random_state),parameters,cv=5,scoring=['f1'],return_train_score=True,refit=False,verbose=3)\n",
        "rf_grid = rf_grid.fit(X,y)\n",
        "\n",
        "# Get Results\n",
        "# Display Specific Result Dataframe Columns\n",
        "# Sort by Highest Testing F1-Score\n",
        "results = rf_grid.cv_results_\n",
        "pd.DataFrame(results)[['param_max_depth',\n",
        "                       'param_n_estimators',\n",
        "                       'mean_fit_time',\n",
        "                       'mean_score_time',\n",
        "                       'mean_train_f1',\n",
        "                       'mean_test_f1']].sort_values('mean_test_f1',ascending=False).head(10)"
      ],
      "metadata": {
        "colab": {
          "base_uri": "https://localhost:8080/",
          "height": 1000
        },
        "id": "LuODQGZYywsp",
        "outputId": "448c253b-a041-4568-fa10-3d7c1b2fb090"
      },
      "execution_count": 23,
      "outputs": [
        {
          "output_type": "stream",
          "name": "stdout",
          "text": [
            "Fitting 5 folds for each of 225 candidates, totalling 1125 fits\n",
            "[CV 1/5] END max_depth=5, n_estimators=2; f1: (train=0.843, test=0.067) total time=   1.5s\n",
            "[CV 2/5] END max_depth=5, n_estimators=2; f1: (train=0.888, test=0.520) total time=   0.2s\n",
            "[CV 3/5] END max_depth=5, n_estimators=2; f1: (train=0.882, test=0.160) total time=   0.1s\n",
            "[CV 4/5] END max_depth=5, n_estimators=2; f1: (train=0.798, test=0.757) total time=   0.2s\n",
            "[CV 5/5] END max_depth=5, n_estimators=2; f1: (train=0.856, test=0.456) total time=   0.2s\n",
            "[CV 1/5] END max_depth=5, n_estimators=3; f1: (train=0.860, test=0.000) total time=   0.2s\n",
            "[CV 2/5] END max_depth=5, n_estimators=3; f1: (train=0.850, test=0.254) total time=   0.2s\n",
            "[CV 3/5] END max_depth=5, n_estimators=3; f1: (train=0.881, test=0.189) total time=   0.2s\n",
            "[CV 4/5] END max_depth=5, n_estimators=3; f1: (train=0.879, test=0.625) total time=   0.2s\n",
            "[CV 5/5] END max_depth=5, n_estimators=3; f1: (train=0.785, test=0.438) total time=   0.3s\n",
            "[CV 1/5] END max_depth=5, n_estimators=4; f1: (train=0.878, test=0.103) total time=   0.2s\n",
            "[CV 2/5] END max_depth=5, n_estimators=4; f1: (train=0.822, test=0.100) total time=   0.2s\n",
            "[CV 3/5] END max_depth=5, n_estimators=4; f1: (train=0.845, test=0.180) total time=   0.2s\n",
            "[CV 4/5] END max_depth=5, n_estimators=4; f1: (train=0.878, test=0.637) total time=   0.1s\n",
            "[CV 5/5] END max_depth=5, n_estimators=4; f1: (train=0.771, test=0.398) total time=   0.2s\n",
            "[CV 1/5] END max_depth=5, n_estimators=5; f1: (train=0.863, test=0.000) total time=   0.2s\n",
            "[CV 2/5] END max_depth=5, n_estimators=5; f1: (train=0.800, test=0.112) total time=   0.3s\n",
            "[CV 3/5] END max_depth=5, n_estimators=5; f1: (train=0.899, test=0.177) total time=   0.3s\n",
            "[CV 4/5] END max_depth=5, n_estimators=5; f1: (train=0.831, test=0.682) total time=   0.3s\n",
            "[CV 5/5] END max_depth=5, n_estimators=5; f1: (train=0.854, test=0.267) total time=   0.3s\n",
            "[CV 1/5] END max_depth=5, n_estimators=6; f1: (train=0.871, test=0.029) total time=   0.3s\n",
            "[CV 2/5] END max_depth=5, n_estimators=6; f1: (train=0.848, test=0.207) total time=   0.3s\n",
            "[CV 3/5] END max_depth=5, n_estimators=6; f1: (train=0.895, test=0.177) total time=   0.3s\n",
            "[CV 4/5] END max_depth=5, n_estimators=6; f1: (train=0.863, test=0.709) total time=   0.3s\n",
            "[CV 5/5] END max_depth=5, n_estimators=6; f1: (train=0.879, test=0.383) total time=   0.3s\n",
            "[CV 1/5] END max_depth=5, n_estimators=7; f1: (train=0.865, test=0.000) total time=   0.3s\n",
            "[CV 2/5] END max_depth=5, n_estimators=7; f1: (train=0.793, test=0.108) total time=   0.3s\n",
            "[CV 3/5] END max_depth=5, n_estimators=7; f1: (train=0.892, test=0.183) total time=   0.2s\n",
            "[CV 4/5] END max_depth=5, n_estimators=7; f1: (train=0.884, test=0.669) total time=   0.3s\n",
            "[CV 5/5] END max_depth=5, n_estimators=7; f1: (train=0.879, test=0.453) total time=   0.3s\n",
            "[CV 1/5] END max_depth=5, n_estimators=8; f1: (train=0.869, test=0.000) total time=   0.3s\n",
            "[CV 2/5] END max_depth=5, n_estimators=8; f1: (train=0.790, test=0.100) total time=   0.2s\n",
            "[CV 3/5] END max_depth=5, n_estimators=8; f1: (train=0.891, test=0.191) total time=   0.3s\n",
            "[CV 4/5] END max_depth=5, n_estimators=8; f1: (train=0.880, test=0.674) total time=   0.3s\n",
            "[CV 5/5] END max_depth=5, n_estimators=8; f1: (train=0.879, test=0.333) total time=   0.3s\n",
            "[CV 1/5] END max_depth=5, n_estimators=9; f1: (train=0.867, test=0.000) total time=   0.2s\n",
            "[CV 2/5] END max_depth=5, n_estimators=9; f1: (train=0.796, test=0.092) total time=   0.3s\n",
            "[CV 3/5] END max_depth=5, n_estimators=9; f1: (train=0.891, test=0.185) total time=   0.3s\n",
            "[CV 4/5] END max_depth=5, n_estimators=9; f1: (train=0.881, test=0.699) total time=   0.2s\n",
            "[CV 5/5] END max_depth=5, n_estimators=9; f1: (train=0.876, test=0.285) total time=   0.3s\n",
            "[CV 1/5] END max_depth=5, n_estimators=10; f1: (train=0.862, test=0.000) total time=   0.2s\n",
            "[CV 2/5] END max_depth=5, n_estimators=10; f1: (train=0.794, test=0.108) total time=   0.3s\n",
            "[CV 3/5] END max_depth=5, n_estimators=10; f1: (train=0.896, test=0.184) total time=   0.3s\n",
            "[CV 4/5] END max_depth=5, n_estimators=10; f1: (train=0.880, test=0.698) total time=   0.3s\n",
            "[CV 5/5] END max_depth=5, n_estimators=10; f1: (train=0.857, test=0.293) total time=   0.3s\n",
            "[CV 1/5] END max_depth=5, n_estimators=100; f1: (train=0.875, test=0.000) total time=   0.7s\n",
            "[CV 2/5] END max_depth=5, n_estimators=100; f1: (train=0.900, test=0.102) total time=   0.7s\n",
            "[CV 3/5] END max_depth=5, n_estimators=100; f1: (train=0.901, test=0.204) total time=   0.7s\n",
            "[CV 4/5] END max_depth=5, n_estimators=100; f1: (train=0.886, test=0.429) total time=   0.7s\n",
            "[CV 5/5] END max_depth=5, n_estimators=100; f1: (train=0.883, test=0.230) total time=   0.7s\n",
            "[CV 1/5] END max_depth=5, n_estimators=300; f1: (train=0.879, test=0.000) total time=   1.7s\n",
            "[CV 2/5] END max_depth=5, n_estimators=300; f1: (train=0.875, test=0.103) total time=   1.9s\n",
            "[CV 3/5] END max_depth=5, n_estimators=300; f1: (train=0.888, test=0.221) total time=   1.7s\n",
            "[CV 4/5] END max_depth=5, n_estimators=300; f1: (train=0.887, test=0.408) total time=   1.6s\n",
            "[CV 5/5] END max_depth=5, n_estimators=300; f1: (train=0.886, test=0.233) total time=   1.6s\n",
            "[CV 1/5] END max_depth=5, n_estimators=500; f1: (train=0.879, test=0.000) total time=   2.5s\n",
            "[CV 2/5] END max_depth=5, n_estimators=500; f1: (train=0.866, test=0.098) total time=   2.5s\n",
            "[CV 3/5] END max_depth=5, n_estimators=500; f1: (train=0.894, test=0.213) total time=   2.5s\n",
            "[CV 4/5] END max_depth=5, n_estimators=500; f1: (train=0.883, test=0.411) total time=   2.5s\n",
            "[CV 5/5] END max_depth=5, n_estimators=500; f1: (train=0.882, test=0.229) total time=   2.5s\n",
            "[CV 1/5] END max_depth=5, n_estimators=700; f1: (train=0.878, test=0.000) total time=   3.2s\n",
            "[CV 2/5] END max_depth=5, n_estimators=700; f1: (train=0.865, test=0.094) total time=   3.2s\n",
            "[CV 3/5] END max_depth=5, n_estimators=700; f1: (train=0.890, test=0.216) total time=   3.2s\n",
            "[CV 4/5] END max_depth=5, n_estimators=700; f1: (train=0.876, test=0.420) total time=   3.2s\n",
            "[CV 5/5] END max_depth=5, n_estimators=700; f1: (train=0.878, test=0.238) total time=   3.3s\n",
            "[CV 1/5] END max_depth=5, n_estimators=900; f1: (train=0.877, test=0.000) total time=   4.0s\n",
            "[CV 2/5] END max_depth=5, n_estimators=900; f1: (train=0.860, test=0.098) total time=   4.1s\n",
            "[CV 3/5] END max_depth=5, n_estimators=900; f1: (train=0.889, test=0.219) total time=   4.1s\n",
            "[CV 4/5] END max_depth=5, n_estimators=900; f1: (train=0.875, test=0.418) total time=   4.1s\n",
            "[CV 5/5] END max_depth=5, n_estimators=900; f1: (train=0.878, test=0.241) total time=   4.1s\n",
            "[CV 1/5] END max_depth=5, n_estimators=1000; f1: (train=0.877, test=0.000) total time=   4.6s\n",
            "[CV 2/5] END max_depth=5, n_estimators=1000; f1: (train=0.859, test=0.096) total time=   5.4s\n",
            "[CV 3/5] END max_depth=5, n_estimators=1000; f1: (train=0.890, test=0.220) total time=   4.6s\n",
            "[CV 4/5] END max_depth=5, n_estimators=1000; f1: (train=0.873, test=0.423) total time=   4.4s\n",
            "[CV 5/5] END max_depth=5, n_estimators=1000; f1: (train=0.879, test=0.240) total time=   4.5s\n",
            "[CV 1/5] END max_depth=6, n_estimators=2; f1: (train=0.856, test=0.035) total time=   0.2s\n",
            "[CV 2/5] END max_depth=6, n_estimators=2; f1: (train=0.877, test=0.183) total time=   0.2s\n",
            "[CV 3/5] END max_depth=6, n_estimators=2; f1: (train=0.878, test=0.221) total time=   0.2s\n",
            "[CV 4/5] END max_depth=6, n_estimators=2; f1: (train=0.843, test=0.350) total time=   0.2s\n",
            "[CV 5/5] END max_depth=6, n_estimators=2; f1: (train=0.877, test=0.302) total time=   0.2s\n",
            "[CV 1/5] END max_depth=6, n_estimators=3; f1: (train=0.871, test=0.000) total time=   0.2s\n",
            "[CV 2/5] END max_depth=6, n_estimators=3; f1: (train=0.783, test=0.152) total time=   0.1s\n",
            "[CV 3/5] END max_depth=6, n_estimators=3; f1: (train=0.868, test=0.152) total time=   0.2s\n",
            "[CV 4/5] END max_depth=6, n_estimators=3; f1: (train=0.757, test=0.419) total time=   0.3s\n",
            "[CV 5/5] END max_depth=6, n_estimators=3; f1: (train=0.887, test=0.566) total time=   0.3s\n",
            "[CV 1/5] END max_depth=6, n_estimators=4; f1: (train=0.865, test=0.000) total time=   0.3s\n",
            "[CV 2/5] END max_depth=6, n_estimators=4; f1: (train=0.786, test=0.138) total time=   0.2s\n",
            "[CV 3/5] END max_depth=6, n_estimators=4; f1: (train=0.769, test=0.150) total time=   0.3s\n",
            "[CV 4/5] END max_depth=6, n_estimators=4; f1: (train=0.860, test=0.316) total time=   0.2s\n",
            "[CV 5/5] END max_depth=6, n_estimators=4; f1: (train=0.891, test=0.406) total time=   0.3s\n",
            "[CV 1/5] END max_depth=6, n_estimators=5; f1: (train=0.874, test=0.009) total time=   0.3s\n",
            "[CV 2/5] END max_depth=6, n_estimators=5; f1: (train=0.787, test=0.087) total time=   0.3s\n",
            "[CV 3/5] END max_depth=6, n_estimators=5; f1: (train=0.870, test=0.162) total time=   0.3s\n",
            "[CV 4/5] END max_depth=6, n_estimators=5; f1: (train=0.848, test=0.316) total time=   0.3s\n",
            "[CV 5/5] END max_depth=6, n_estimators=5; f1: (train=0.890, test=0.442) total time=   0.3s\n",
            "[CV 1/5] END max_depth=6, n_estimators=6; f1: (train=0.884, test=0.031) total time=   0.3s\n",
            "[CV 2/5] END max_depth=6, n_estimators=6; f1: (train=0.804, test=0.095) total time=   0.3s\n",
            "[CV 3/5] END max_depth=6, n_estimators=6; f1: (train=0.872, test=0.194) total time=   0.3s\n",
            "[CV 4/5] END max_depth=6, n_estimators=6; f1: (train=0.864, test=0.351) total time=   0.3s\n",
            "[CV 5/5] END max_depth=6, n_estimators=6; f1: (train=0.889, test=0.431) total time=   0.3s\n",
            "[CV 1/5] END max_depth=6, n_estimators=7; f1: (train=0.875, test=0.000) total time=   0.3s\n",
            "[CV 2/5] END max_depth=6, n_estimators=7; f1: (train=0.848, test=0.102) total time=   0.3s\n",
            "[CV 3/5] END max_depth=6, n_estimators=7; f1: (train=0.897, test=0.270) total time=   0.3s\n",
            "[CV 4/5] END max_depth=6, n_estimators=7; f1: (train=0.873, test=0.364) total time=   0.3s\n",
            "[CV 5/5] END max_depth=6, n_estimators=7; f1: (train=0.892, test=0.380) total time=   0.3s\n",
            "[CV 1/5] END max_depth=6, n_estimators=8; f1: (train=0.873, test=0.000) total time=   0.3s\n",
            "[CV 2/5] END max_depth=6, n_estimators=8; f1: (train=0.823, test=0.131) total time=   0.2s\n",
            "[CV 3/5] END max_depth=6, n_estimators=8; f1: (train=0.897, test=0.248) total time=   0.3s\n",
            "[CV 4/5] END max_depth=6, n_estimators=8; f1: (train=0.862, test=0.351) total time=   0.3s\n",
            "[CV 5/5] END max_depth=6, n_estimators=8; f1: (train=0.892, test=0.326) total time=   0.3s\n",
            "[CV 1/5] END max_depth=6, n_estimators=9; f1: (train=0.876, test=0.002) total time=   0.3s\n",
            "[CV 2/5] END max_depth=6, n_estimators=9; f1: (train=0.849, test=0.083) total time=   0.3s\n",
            "[CV 3/5] END max_depth=6, n_estimators=9; f1: (train=0.897, test=0.279) total time=   0.3s\n",
            "[CV 4/5] END max_depth=6, n_estimators=9; f1: (train=0.847, test=0.333) total time=   0.3s\n",
            "[CV 5/5] END max_depth=6, n_estimators=9; f1: (train=0.892, test=0.294) total time=   0.2s\n",
            "[CV 1/5] END max_depth=6, n_estimators=10; f1: (train=0.875, test=0.000) total time=   0.3s\n",
            "[CV 2/5] END max_depth=6, n_estimators=10; f1: (train=0.879, test=0.086) total time=   0.3s\n",
            "[CV 3/5] END max_depth=6, n_estimators=10; f1: (train=0.897, test=0.293) total time=   0.3s\n",
            "[CV 4/5] END max_depth=6, n_estimators=10; f1: (train=0.839, test=0.338) total time=   0.3s\n",
            "[CV 5/5] END max_depth=6, n_estimators=10; f1: (train=0.894, test=0.254) total time=   0.2s\n",
            "[CV 1/5] END max_depth=6, n_estimators=100; f1: (train=0.889, test=0.000) total time=   0.7s\n",
            "[CV 2/5] END max_depth=6, n_estimators=100; f1: (train=0.908, test=0.184) total time=   0.7s\n",
            "[CV 3/5] END max_depth=6, n_estimators=100; f1: (train=0.903, test=0.190) total time=   0.7s\n",
            "[CV 4/5] END max_depth=6, n_estimators=100; f1: (train=0.895, test=0.336) total time=   0.7s\n",
            "[CV 5/5] END max_depth=6, n_estimators=100; f1: (train=0.895, test=0.179) total time=   0.7s\n",
            "[CV 1/5] END max_depth=6, n_estimators=300; f1: (train=0.890, test=0.000) total time=   1.7s\n",
            "[CV 2/5] END max_depth=6, n_estimators=300; f1: (train=0.907, test=0.107) total time=   1.7s\n",
            "[CV 3/5] END max_depth=6, n_estimators=300; f1: (train=0.905, test=0.194) total time=   1.8s\n",
            "[CV 4/5] END max_depth=6, n_estimators=300; f1: (train=0.894, test=0.349) total time=   1.7s\n",
            "[CV 5/5] END max_depth=6, n_estimators=300; f1: (train=0.894, test=0.153) total time=   1.7s\n",
            "[CV 1/5] END max_depth=6, n_estimators=500; f1: (train=0.889, test=0.000) total time=   2.7s\n",
            "[CV 2/5] END max_depth=6, n_estimators=500; f1: (train=0.907, test=0.097) total time=   2.8s\n",
            "[CV 3/5] END max_depth=6, n_estimators=500; f1: (train=0.906, test=0.185) total time=   2.6s\n",
            "[CV 4/5] END max_depth=6, n_estimators=500; f1: (train=0.893, test=0.362) total time=   2.7s\n",
            "[CV 5/5] END max_depth=6, n_estimators=500; f1: (train=0.893, test=0.163) total time=   2.7s\n",
            "[CV 1/5] END max_depth=6, n_estimators=700; f1: (train=0.889, test=0.000) total time=   3.5s\n",
            "[CV 2/5] END max_depth=6, n_estimators=700; f1: (train=0.905, test=0.094) total time=   3.5s\n",
            "[CV 3/5] END max_depth=6, n_estimators=700; f1: (train=0.907, test=0.185) total time=   3.7s\n",
            "[CV 4/5] END max_depth=6, n_estimators=700; f1: (train=0.892, test=0.364) total time=   3.5s\n",
            "[CV 5/5] END max_depth=6, n_estimators=700; f1: (train=0.893, test=0.165) total time=   3.5s\n",
            "[CV 1/5] END max_depth=6, n_estimators=900; f1: (train=0.890, test=0.000) total time=   4.4s\n",
            "[CV 2/5] END max_depth=6, n_estimators=900; f1: (train=0.904, test=0.094) total time=   4.5s\n",
            "[CV 3/5] END max_depth=6, n_estimators=900; f1: (train=0.906, test=0.185) total time=   4.5s\n",
            "[CV 4/5] END max_depth=6, n_estimators=900; f1: (train=0.893, test=0.365) total time=   4.5s\n",
            "[CV 5/5] END max_depth=6, n_estimators=900; f1: (train=0.894, test=0.180) total time=   4.5s\n",
            "[CV 1/5] END max_depth=6, n_estimators=1000; f1: (train=0.889, test=0.000) total time=   5.0s\n",
            "[CV 2/5] END max_depth=6, n_estimators=1000; f1: (train=0.903, test=0.097) total time=   5.0s\n",
            "[CV 3/5] END max_depth=6, n_estimators=1000; f1: (train=0.906, test=0.185) total time=   5.1s\n",
            "[CV 4/5] END max_depth=6, n_estimators=1000; f1: (train=0.893, test=0.369) total time=   5.0s\n",
            "[CV 5/5] END max_depth=6, n_estimators=1000; f1: (train=0.893, test=0.177) total time=   5.1s\n",
            "[CV 1/5] END max_depth=7, n_estimators=2; f1: (train=0.869, test=0.004) total time=   0.1s\n",
            "[CV 2/5] END max_depth=7, n_estimators=2; f1: (train=0.824, test=0.236) total time=   0.2s\n",
            "[CV 3/5] END max_depth=7, n_estimators=2; f1: (train=0.895, test=0.168) total time=   0.2s\n",
            "[CV 4/5] END max_depth=7, n_estimators=2; f1: (train=0.876, test=0.334) total time=   0.2s\n",
            "[CV 5/5] END max_depth=7, n_estimators=2; f1: (train=0.887, test=0.305) total time=   0.2s\n",
            "[CV 1/5] END max_depth=7, n_estimators=3; f1: (train=0.871, test=0.004) total time=   0.3s\n",
            "[CV 2/5] END max_depth=7, n_estimators=3; f1: (train=0.874, test=0.264) total time=   0.2s\n",
            "[CV 3/5] END max_depth=7, n_estimators=3; f1: (train=0.870, test=0.183) total time=   0.1s\n",
            "[CV 4/5] END max_depth=7, n_estimators=3; f1: (train=0.844, test=0.358) total time=   0.2s\n",
            "[CV 5/5] END max_depth=7, n_estimators=3; f1: (train=0.880, test=0.486) total time=   0.2s\n",
            "[CV 1/5] END max_depth=7, n_estimators=4; f1: (train=0.883, test=0.043) total time=   0.3s\n",
            "[CV 2/5] END max_depth=7, n_estimators=4; f1: (train=0.909, test=0.292) total time=   0.2s\n",
            "[CV 3/5] END max_depth=7, n_estimators=4; f1: (train=0.885, test=0.160) total time=   0.2s\n",
            "[CV 4/5] END max_depth=7, n_estimators=4; f1: (train=0.793, test=0.310) total time=   0.2s\n",
            "[CV 5/5] END max_depth=7, n_estimators=4; f1: (train=0.873, test=0.327) total time=   0.3s\n",
            "[CV 1/5] END max_depth=7, n_estimators=5; f1: (train=0.888, test=0.004) total time=   0.3s\n",
            "[CV 2/5] END max_depth=7, n_estimators=5; f1: (train=0.913, test=0.242) total time=   0.3s\n",
            "[CV 3/5] END max_depth=7, n_estimators=5; f1: (train=0.879, test=0.168) total time=   0.3s\n",
            "[CV 4/5] END max_depth=7, n_estimators=5; f1: (train=0.817, test=0.368) total time=   0.3s\n",
            "[CV 5/5] END max_depth=7, n_estimators=5; f1: (train=0.884, test=0.357) total time=   0.3s\n",
            "[CV 1/5] END max_depth=7, n_estimators=6; f1: (train=0.899, test=0.011) total time=   0.3s\n",
            "[CV 2/5] END max_depth=7, n_estimators=6; f1: (train=0.914, test=0.252) total time=   0.3s\n",
            "[CV 3/5] END max_depth=7, n_estimators=6; f1: (train=0.883, test=0.161) total time=   0.3s\n",
            "[CV 4/5] END max_depth=7, n_estimators=6; f1: (train=0.870, test=0.413) total time=   0.3s\n",
            "[CV 5/5] END max_depth=7, n_estimators=6; f1: (train=0.885, test=0.207) total time=   0.3s\n",
            "[CV 1/5] END max_depth=7, n_estimators=7; f1: (train=0.890, test=0.000) total time=   0.3s\n",
            "[CV 2/5] END max_depth=7, n_estimators=7; f1: (train=0.914, test=0.299) total time=   0.3s\n",
            "[CV 3/5] END max_depth=7, n_estimators=7; f1: (train=0.881, test=0.160) total time=   0.3s\n",
            "[CV 4/5] END max_depth=7, n_estimators=7; f1: (train=0.888, test=0.467) total time=   0.3s\n",
            "[CV 5/5] END max_depth=7, n_estimators=7; f1: (train=0.889, test=0.265) total time=   0.2s\n",
            "[CV 1/5] END max_depth=7, n_estimators=8; f1: (train=0.893, test=0.007) total time=   0.3s\n",
            "[CV 2/5] END max_depth=7, n_estimators=8; f1: (train=0.914, test=0.272) total time=   0.3s\n",
            "[CV 3/5] END max_depth=7, n_estimators=8; f1: (train=0.888, test=0.165) total time=   0.3s\n",
            "[CV 4/5] END max_depth=7, n_estimators=8; f1: (train=0.873, test=0.440) total time=   0.3s\n",
            "[CV 5/5] END max_depth=7, n_estimators=8; f1: (train=0.888, test=0.230) total time=   0.3s\n",
            "[CV 1/5] END max_depth=7, n_estimators=9; f1: (train=0.889, test=0.000) total time=   0.3s\n",
            "[CV 2/5] END max_depth=7, n_estimators=9; f1: (train=0.914, test=0.292) total time=   0.3s\n",
            "[CV 3/5] END max_depth=7, n_estimators=9; f1: (train=0.887, test=0.167) total time=   0.3s\n",
            "[CV 4/5] END max_depth=7, n_estimators=9; f1: (train=0.854, test=0.435) total time=   0.3s\n",
            "[CV 5/5] END max_depth=7, n_estimators=9; f1: (train=0.888, test=0.248) total time=   0.3s\n",
            "[CV 1/5] END max_depth=7, n_estimators=10; f1: (train=0.896, test=0.009) total time=   0.3s\n",
            "[CV 2/5] END max_depth=7, n_estimators=10; f1: (train=0.915, test=0.271) total time=   0.3s\n",
            "[CV 3/5] END max_depth=7, n_estimators=10; f1: (train=0.885, test=0.164) total time=   0.2s\n",
            "[CV 4/5] END max_depth=7, n_estimators=10; f1: (train=0.841, test=0.434) total time=   0.2s\n",
            "[CV 5/5] END max_depth=7, n_estimators=10; f1: (train=0.887, test=0.259) total time=   0.3s\n",
            "[CV 1/5] END max_depth=7, n_estimators=100; f1: (train=0.906, test=0.013) total time=   0.7s\n",
            "[CV 2/5] END max_depth=7, n_estimators=100; f1: (train=0.898, test=0.164) total time=   0.8s\n",
            "[CV 3/5] END max_depth=7, n_estimators=100; f1: (train=0.912, test=0.156) total time=   0.8s\n",
            "[CV 4/5] END max_depth=7, n_estimators=100; f1: (train=0.900, test=0.358) total time=   0.8s\n",
            "[CV 5/5] END max_depth=7, n_estimators=100; f1: (train=0.894, test=0.108) total time=   0.8s\n",
            "[CV 1/5] END max_depth=7, n_estimators=300; f1: (train=0.908, test=0.020) total time=   1.8s\n",
            "[CV 2/5] END max_depth=7, n_estimators=300; f1: (train=0.912, test=0.107) total time=   1.8s\n",
            "[CV 3/5] END max_depth=7, n_estimators=300; f1: (train=0.912, test=0.159) total time=   1.8s\n",
            "[CV 4/5] END max_depth=7, n_estimators=300; f1: (train=0.901, test=0.352) total time=   1.8s\n",
            "[CV 5/5] END max_depth=7, n_estimators=300; f1: (train=0.896, test=0.092) total time=   1.8s\n",
            "[CV 1/5] END max_depth=7, n_estimators=500; f1: (train=0.907, test=0.020) total time=   2.8s\n",
            "[CV 2/5] END max_depth=7, n_estimators=500; f1: (train=0.914, test=0.115) total time=   2.9s\n",
            "[CV 3/5] END max_depth=7, n_estimators=500; f1: (train=0.912, test=0.156) total time=   2.9s\n",
            "[CV 4/5] END max_depth=7, n_estimators=500; f1: (train=0.901, test=0.345) total time=   2.9s\n",
            "[CV 5/5] END max_depth=7, n_estimators=500; f1: (train=0.895, test=0.077) total time=   3.0s\n",
            "[CV 1/5] END max_depth=7, n_estimators=700; f1: (train=0.907, test=0.022) total time=   3.8s\n",
            "[CV 2/5] END max_depth=7, n_estimators=700; f1: (train=0.913, test=0.114) total time=   3.9s\n",
            "[CV 3/5] END max_depth=7, n_estimators=700; f1: (train=0.912, test=0.161) total time=   3.8s\n",
            "[CV 4/5] END max_depth=7, n_estimators=700; f1: (train=0.901, test=0.345) total time=   3.9s\n",
            "[CV 5/5] END max_depth=7, n_estimators=700; f1: (train=0.896, test=0.097) total time=   3.8s\n",
            "[CV 1/5] END max_depth=7, n_estimators=900; f1: (train=0.907, test=0.018) total time=   4.6s\n",
            "[CV 2/5] END max_depth=7, n_estimators=900; f1: (train=0.914, test=0.110) total time=   4.8s\n",
            "[CV 3/5] END max_depth=7, n_estimators=900; f1: (train=0.912, test=0.163) total time=   4.8s\n",
            "[CV 4/5] END max_depth=7, n_estimators=900; f1: (train=0.901, test=0.351) total time=   4.8s\n",
            "[CV 5/5] END max_depth=7, n_estimators=900; f1: (train=0.896, test=0.102) total time=   4.8s\n",
            "[CV 1/5] END max_depth=7, n_estimators=1000; f1: (train=0.907, test=0.020) total time=   5.1s\n",
            "[CV 2/5] END max_depth=7, n_estimators=1000; f1: (train=0.914, test=0.109) total time=   5.4s\n",
            "[CV 3/5] END max_depth=7, n_estimators=1000; f1: (train=0.911, test=0.163) total time=   5.3s\n",
            "[CV 4/5] END max_depth=7, n_estimators=1000; f1: (train=0.901, test=0.354) total time=   5.4s\n",
            "[CV 5/5] END max_depth=7, n_estimators=1000; f1: (train=0.896, test=0.107) total time=   5.3s\n",
            "[CV 1/5] END max_depth=8, n_estimators=2; f1: (train=0.874, test=0.029) total time=   0.2s\n",
            "[CV 2/5] END max_depth=8, n_estimators=2; f1: (train=0.835, test=0.229) total time=   0.2s\n",
            "[CV 3/5] END max_depth=8, n_estimators=2; f1: (train=0.899, test=0.182) total time=   0.2s\n",
            "[CV 4/5] END max_depth=8, n_estimators=2; f1: (train=0.889, test=0.158) total time=   0.2s\n",
            "[CV 5/5] END max_depth=8, n_estimators=2; f1: (train=0.891, test=0.363) total time=   0.1s\n",
            "[CV 1/5] END max_depth=8, n_estimators=3; f1: (train=0.883, test=0.020) total time=   0.2s\n",
            "[CV 2/5] END max_depth=8, n_estimators=3; f1: (train=0.820, test=0.189) total time=   0.3s\n",
            "[CV 3/5] END max_depth=8, n_estimators=3; f1: (train=0.890, test=0.211) total time=   0.2s\n",
            "[CV 4/5] END max_depth=8, n_estimators=3; f1: (train=0.885, test=0.215) total time=   0.1s\n",
            "[CV 5/5] END max_depth=8, n_estimators=3; f1: (train=0.892, test=0.471) total time=   0.1s\n",
            "[CV 1/5] END max_depth=8, n_estimators=4; f1: (train=0.900, test=0.047) total time=   0.3s\n",
            "[CV 2/5] END max_depth=8, n_estimators=4; f1: (train=0.857, test=0.204) total time=   0.3s\n",
            "[CV 3/5] END max_depth=8, n_estimators=4; f1: (train=0.878, test=0.141) total time=   0.3s\n",
            "[CV 4/5] END max_depth=8, n_estimators=4; f1: (train=0.886, test=0.240) total time=   0.3s\n",
            "[CV 5/5] END max_depth=8, n_estimators=4; f1: (train=0.892, test=0.305) total time=   0.3s\n",
            "[CV 1/5] END max_depth=8, n_estimators=5; f1: (train=0.909, test=0.078) total time=   0.3s\n",
            "[CV 2/5] END max_depth=8, n_estimators=5; f1: (train=0.855, test=0.165) total time=   0.3s\n",
            "[CV 3/5] END max_depth=8, n_estimators=5; f1: (train=0.875, test=0.169) total time=   0.2s\n",
            "[CV 4/5] END max_depth=8, n_estimators=5; f1: (train=0.885, test=0.275) total time=   0.3s\n",
            "[CV 5/5] END max_depth=8, n_estimators=5; f1: (train=0.898, test=0.241) total time=   0.3s\n",
            "[CV 1/5] END max_depth=8, n_estimators=6; f1: (train=0.913, test=0.083) total time=   0.3s\n",
            "[CV 2/5] END max_depth=8, n_estimators=6; f1: (train=0.880, test=0.176) total time=   0.3s\n",
            "[CV 3/5] END max_depth=8, n_estimators=6; f1: (train=0.904, test=0.173) total time=   0.3s\n",
            "[CV 4/5] END max_depth=8, n_estimators=6; f1: (train=0.895, test=0.266) total time=   0.3s\n",
            "[CV 5/5] END max_depth=8, n_estimators=6; f1: (train=0.899, test=0.215) total time=   0.3s\n",
            "[CV 1/5] END max_depth=8, n_estimators=7; f1: (train=0.909, test=0.054) total time=   0.3s\n",
            "[CV 2/5] END max_depth=8, n_estimators=7; f1: (train=0.888, test=0.157) total time=   0.3s\n",
            "[CV 3/5] END max_depth=8, n_estimators=7; f1: (train=0.905, test=0.159) total time=   0.3s\n",
            "[CV 4/5] END max_depth=8, n_estimators=7; f1: (train=0.899, test=0.308) total time=   0.3s\n",
            "[CV 5/5] END max_depth=8, n_estimators=7; f1: (train=0.901, test=0.248) total time=   0.3s\n",
            "[CV 1/5] END max_depth=8, n_estimators=8; f1: (train=0.916, test=0.092) total time=   0.3s\n",
            "[CV 2/5] END max_depth=8, n_estimators=8; f1: (train=0.886, test=0.141) total time=   0.3s\n",
            "[CV 3/5] END max_depth=8, n_estimators=8; f1: (train=0.907, test=0.154) total time=   0.3s\n",
            "[CV 4/5] END max_depth=8, n_estimators=8; f1: (train=0.899, test=0.300) total time=   0.3s\n",
            "[CV 5/5] END max_depth=8, n_estimators=8; f1: (train=0.900, test=0.202) total time=   0.3s\n",
            "[CV 1/5] END max_depth=8, n_estimators=9; f1: (train=0.917, test=0.128) total time=   0.3s\n",
            "[CV 2/5] END max_depth=8, n_estimators=9; f1: (train=0.888, test=0.156) total time=   0.2s\n",
            "[CV 3/5] END max_depth=8, n_estimators=9; f1: (train=0.902, test=0.156) total time=   0.3s\n",
            "[CV 4/5] END max_depth=8, n_estimators=9; f1: (train=0.903, test=0.287) total time=   0.3s\n",
            "[CV 5/5] END max_depth=8, n_estimators=9; f1: (train=0.900, test=0.241) total time=   0.3s\n",
            "[CV 1/5] END max_depth=8, n_estimators=10; f1: (train=0.917, test=0.081) total time=   0.3s\n",
            "[CV 2/5] END max_depth=8, n_estimators=10; f1: (train=0.892, test=0.153) total time=   0.3s\n",
            "[CV 3/5] END max_depth=8, n_estimators=10; f1: (train=0.909, test=0.162) total time=   0.3s\n",
            "[CV 4/5] END max_depth=8, n_estimators=10; f1: (train=0.902, test=0.293) total time=   0.3s\n",
            "[CV 5/5] END max_depth=8, n_estimators=10; f1: (train=0.900, test=0.207) total time=   0.2s\n",
            "[CV 1/5] END max_depth=8, n_estimators=100; f1: (train=0.919, test=0.087) total time=   0.7s\n",
            "[CV 2/5] END max_depth=8, n_estimators=100; f1: (train=0.919, test=0.162) total time=   0.8s\n",
            "[CV 3/5] END max_depth=8, n_estimators=100; f1: (train=0.909, test=0.144) total time=   0.8s\n",
            "[CV 4/5] END max_depth=8, n_estimators=100; f1: (train=0.906, test=0.305) total time=   0.8s\n",
            "[CV 5/5] END max_depth=8, n_estimators=100; f1: (train=0.900, test=0.072) total time=   0.8s\n",
            "[CV 1/5] END max_depth=8, n_estimators=300; f1: (train=0.919, test=0.056) total time=   1.8s\n",
            "[CV 2/5] END max_depth=8, n_estimators=300; f1: (train=0.920, test=0.187) total time=   1.9s\n",
            "[CV 3/5] END max_depth=8, n_estimators=300; f1: (train=0.916, test=0.149) total time=   1.9s\n",
            "[CV 4/5] END max_depth=8, n_estimators=300; f1: (train=0.907, test=0.319) total time=   1.8s\n",
            "[CV 5/5] END max_depth=8, n_estimators=300; f1: (train=0.899, test=0.060) total time=   1.9s\n",
            "[CV 1/5] END max_depth=8, n_estimators=500; f1: (train=0.919, test=0.049) total time=   2.9s\n",
            "[CV 2/5] END max_depth=8, n_estimators=500; f1: (train=0.920, test=0.166) total time=   3.0s\n",
            "[CV 3/5] END max_depth=8, n_estimators=500; f1: (train=0.916, test=0.149) total time=   3.0s\n",
            "[CV 4/5] END max_depth=8, n_estimators=500; f1: (train=0.907, test=0.312) total time=   2.9s\n",
            "[CV 5/5] END max_depth=8, n_estimators=500; f1: (train=0.899, test=0.053) total time=   3.0s\n",
            "[CV 1/5] END max_depth=8, n_estimators=700; f1: (train=0.918, test=0.040) total time=   4.0s\n",
            "[CV 2/5] END max_depth=8, n_estimators=700; f1: (train=0.919, test=0.147) total time=   3.8s\n",
            "[CV 3/5] END max_depth=8, n_estimators=700; f1: (train=0.916, test=0.147) total time=   4.0s\n",
            "[CV 4/5] END max_depth=8, n_estimators=700; f1: (train=0.906, test=0.312) total time=   3.9s\n",
            "[CV 5/5] END max_depth=8, n_estimators=700; f1: (train=0.900, test=0.070) total time=   3.9s\n",
            "[CV 1/5] END max_depth=8, n_estimators=900; f1: (train=0.919, test=0.038) total time=   5.0s\n",
            "[CV 2/5] END max_depth=8, n_estimators=900; f1: (train=0.920, test=0.158) total time=   5.1s\n",
            "[CV 3/5] END max_depth=8, n_estimators=900; f1: (train=0.916, test=0.147) total time=   5.0s\n",
            "[CV 4/5] END max_depth=8, n_estimators=900; f1: (train=0.907, test=0.305) total time=   5.0s\n",
            "[CV 5/5] END max_depth=8, n_estimators=900; f1: (train=0.900, test=0.074) total time=   5.1s\n",
            "[CV 1/5] END max_depth=8, n_estimators=1000; f1: (train=0.919, test=0.040) total time=   5.3s\n",
            "[CV 2/5] END max_depth=8, n_estimators=1000; f1: (train=0.919, test=0.160) total time=   5.6s\n",
            "[CV 3/5] END max_depth=8, n_estimators=1000; f1: (train=0.916, test=0.150) total time=   5.4s\n",
            "[CV 4/5] END max_depth=8, n_estimators=1000; f1: (train=0.907, test=0.308) total time=   5.5s\n",
            "[CV 5/5] END max_depth=8, n_estimators=1000; f1: (train=0.900, test=0.076) total time=   5.6s\n",
            "[CV 1/5] END max_depth=9, n_estimators=2; f1: (train=0.904, test=0.122) total time=   0.2s\n",
            "[CV 2/5] END max_depth=9, n_estimators=2; f1: (train=0.909, test=0.345) total time=   0.2s\n",
            "[CV 3/5] END max_depth=9, n_estimators=2; f1: (train=0.900, test=0.140) total time=   0.2s\n",
            "[CV 4/5] END max_depth=9, n_estimators=2; f1: (train=0.893, test=0.410) total time=   0.2s\n",
            "[CV 5/5] END max_depth=9, n_estimators=2; f1: (train=0.892, test=0.005) total time=   0.2s\n",
            "[CV 1/5] END max_depth=9, n_estimators=3; f1: (train=0.917, test=0.108) total time=   0.2s\n",
            "[CV 2/5] END max_depth=9, n_estimators=3; f1: (train=0.911, test=0.308) total time=   0.2s\n",
            "[CV 3/5] END max_depth=9, n_estimators=3; f1: (train=0.914, test=0.142) total time=   0.1s\n",
            "[CV 4/5] END max_depth=9, n_estimators=3; f1: (train=0.893, test=0.334) total time=   0.2s\n",
            "[CV 5/5] END max_depth=9, n_estimators=3; f1: (train=0.894, test=0.112) total time=   0.1s\n",
            "[CV 1/5] END max_depth=9, n_estimators=4; f1: (train=0.918, test=0.116) total time=   0.3s\n",
            "[CV 2/5] END max_depth=9, n_estimators=4; f1: (train=0.905, test=0.242) total time=   0.3s\n",
            "[CV 3/5] END max_depth=9, n_estimators=4; f1: (train=0.912, test=0.131) total time=   0.3s\n",
            "[CV 4/5] END max_depth=9, n_estimators=4; f1: (train=0.874, test=0.266) total time=   0.3s\n",
            "[CV 5/5] END max_depth=9, n_estimators=4; f1: (train=0.898, test=0.180) total time=   0.3s\n",
            "[CV 1/5] END max_depth=9, n_estimators=5; f1: (train=0.918, test=0.105) total time=   0.3s\n",
            "[CV 2/5] END max_depth=9, n_estimators=5; f1: (train=0.913, test=0.276) total time=   0.2s\n",
            "[CV 3/5] END max_depth=9, n_estimators=5; f1: (train=0.914, test=0.141) total time=   0.3s\n",
            "[CV 4/5] END max_depth=9, n_estimators=5; f1: (train=0.887, test=0.407) total time=   0.3s\n",
            "[CV 5/5] END max_depth=9, n_estimators=5; f1: (train=0.903, test=0.215) total time=   0.2s\n",
            "[CV 1/5] END max_depth=9, n_estimators=6; f1: (train=0.923, test=0.116) total time=   0.3s\n",
            "[CV 2/5] END max_depth=9, n_estimators=6; f1: (train=0.917, test=0.273) total time=   0.3s\n",
            "[CV 3/5] END max_depth=9, n_estimators=6; f1: (train=0.917, test=0.143) total time=   0.3s\n",
            "[CV 4/5] END max_depth=9, n_estimators=6; f1: (train=0.907, test=0.418) total time=   0.3s\n",
            "[CV 5/5] END max_depth=9, n_estimators=6; f1: (train=0.903, test=0.210) total time=   0.2s\n",
            "[CV 1/5] END max_depth=9, n_estimators=7; f1: (train=0.922, test=0.100) total time=   0.3s\n",
            "[CV 2/5] END max_depth=9, n_estimators=7; f1: (train=0.916, test=0.246) total time=   0.3s\n",
            "[CV 3/5] END max_depth=9, n_estimators=7; f1: (train=0.918, test=0.145) total time=   0.3s\n",
            "[CV 4/5] END max_depth=9, n_estimators=7; f1: (train=0.908, test=0.445) total time=   0.3s\n",
            "[CV 5/5] END max_depth=9, n_estimators=7; f1: (train=0.904, test=0.210) total time=   0.3s\n",
            "[CV 1/5] END max_depth=9, n_estimators=8; f1: (train=0.921, test=0.107) total time=   0.3s\n",
            "[CV 2/5] END max_depth=9, n_estimators=8; f1: (train=0.921, test=0.272) total time=   0.3s\n",
            "[CV 3/5] END max_depth=9, n_estimators=8; f1: (train=0.919, test=0.146) total time=   0.2s\n",
            "[CV 4/5] END max_depth=9, n_estimators=8; f1: (train=0.907, test=0.397) total time=   0.3s\n",
            "[CV 5/5] END max_depth=9, n_estimators=8; f1: (train=0.906, test=0.126) total time=   0.2s\n",
            "[CV 1/5] END max_depth=9, n_estimators=9; f1: (train=0.921, test=0.112) total time=   0.3s\n",
            "[CV 2/5] END max_depth=9, n_estimators=9; f1: (train=0.921, test=0.247) total time=   0.3s\n",
            "[CV 3/5] END max_depth=9, n_estimators=9; f1: (train=0.917, test=0.148) total time=   0.2s\n",
            "[CV 4/5] END max_depth=9, n_estimators=9; f1: (train=0.909, test=0.409) total time=   0.3s\n",
            "[CV 5/5] END max_depth=9, n_estimators=9; f1: (train=0.906, test=0.144) total time=   0.3s\n",
            "[CV 1/5] END max_depth=9, n_estimators=10; f1: (train=0.922, test=0.105) total time=   0.3s\n",
            "[CV 2/5] END max_depth=9, n_estimators=10; f1: (train=0.919, test=0.219) total time=   0.3s\n",
            "[CV 3/5] END max_depth=9, n_estimators=10; f1: (train=0.917, test=0.146) total time=   0.2s\n",
            "[CV 4/5] END max_depth=9, n_estimators=10; f1: (train=0.908, test=0.411) total time=   0.3s\n",
            "[CV 5/5] END max_depth=9, n_estimators=10; f1: (train=0.906, test=0.116) total time=   0.3s\n",
            "[CV 1/5] END max_depth=9, n_estimators=100; f1: (train=0.929, test=0.077) total time=   0.7s\n",
            "[CV 2/5] END max_depth=9, n_estimators=100; f1: (train=0.926, test=0.196) total time=   0.8s\n",
            "[CV 3/5] END max_depth=9, n_estimators=100; f1: (train=0.920, test=0.139) total time=   0.8s\n",
            "[CV 4/5] END max_depth=9, n_estimators=100; f1: (train=0.913, test=0.319) total time=   0.8s\n",
            "[CV 5/5] END max_depth=9, n_estimators=100; f1: (train=0.905, test=0.047) total time=   0.8s\n",
            "[CV 1/5] END max_depth=9, n_estimators=300; f1: (train=0.927, test=0.063) total time=   1.8s\n",
            "[CV 2/5] END max_depth=9, n_estimators=300; f1: (train=0.928, test=0.204) total time=   2.0s\n",
            "[CV 3/5] END max_depth=9, n_estimators=300; f1: (train=0.920, test=0.146) total time=   1.9s\n",
            "[CV 4/5] END max_depth=9, n_estimators=300; f1: (train=0.913, test=0.291) total time=   1.9s\n",
            "[CV 5/5] END max_depth=9, n_estimators=300; f1: (train=0.905, test=0.043) total time=   2.0s\n",
            "[CV 1/5] END max_depth=9, n_estimators=500; f1: (train=0.928, test=0.053) total time=   3.1s\n",
            "[CV 2/5] END max_depth=9, n_estimators=500; f1: (train=0.928, test=0.204) total time=   3.0s\n",
            "[CV 3/5] END max_depth=9, n_estimators=500; f1: (train=0.920, test=0.146) total time=   2.9s\n",
            "[CV 4/5] END max_depth=9, n_estimators=500; f1: (train=0.914, test=0.286) total time=   3.2s\n",
            "[CV 5/5] END max_depth=9, n_estimators=500; f1: (train=0.905, test=0.048) total time=   3.1s\n",
            "[CV 1/5] END max_depth=9, n_estimators=700; f1: (train=0.928, test=0.047) total time=   4.0s\n",
            "[CV 2/5] END max_depth=9, n_estimators=700; f1: (train=0.928, test=0.198) total time=   4.2s\n",
            "[CV 3/5] END max_depth=9, n_estimators=700; f1: (train=0.921, test=0.144) total time=   4.1s\n",
            "[CV 4/5] END max_depth=9, n_estimators=700; f1: (train=0.913, test=0.290) total time=   4.3s\n",
            "[CV 5/5] END max_depth=9, n_estimators=700; f1: (train=0.906, test=0.045) total time=   4.3s\n",
            "[CV 1/5] END max_depth=9, n_estimators=900; f1: (train=0.928, test=0.045) total time=   5.3s\n",
            "[CV 2/5] END max_depth=9, n_estimators=900; f1: (train=0.928, test=0.183) total time=   5.2s\n",
            "[CV 3/5] END max_depth=9, n_estimators=900; f1: (train=0.920, test=0.142) total time=   5.1s\n",
            "[CV 4/5] END max_depth=9, n_estimators=900; f1: (train=0.914, test=0.294) total time=   5.4s\n",
            "[CV 5/5] END max_depth=9, n_estimators=900; f1: (train=0.905, test=0.047) total time=   5.2s\n",
            "[CV 1/5] END max_depth=9, n_estimators=1000; f1: (train=0.927, test=0.045) total time=   5.7s\n",
            "[CV 2/5] END max_depth=9, n_estimators=1000; f1: (train=0.928, test=0.187) total time=   5.8s\n",
            "[CV 3/5] END max_depth=9, n_estimators=1000; f1: (train=0.920, test=0.144) total time=   5.7s\n",
            "[CV 4/5] END max_depth=9, n_estimators=1000; f1: (train=0.914, test=0.292) total time=   5.9s\n",
            "[CV 5/5] END max_depth=9, n_estimators=1000; f1: (train=0.906, test=0.052) total time=   5.9s\n",
            "[CV 1/5] END max_depth=10, n_estimators=2; f1: (train=0.920, test=0.094) total time=   0.2s\n",
            "[CV 2/5] END max_depth=10, n_estimators=2; f1: (train=0.892, test=0.249) total time=   0.2s\n",
            "[CV 3/5] END max_depth=10, n_estimators=2; f1: (train=0.908, test=0.165) total time=   0.2s\n",
            "[CV 4/5] END max_depth=10, n_estimators=2; f1: (train=0.901, test=0.341) total time=   0.2s\n",
            "[CV 5/5] END max_depth=10, n_estimators=2; f1: (train=0.888, test=0.078) total time=   0.2s\n",
            "[CV 1/5] END max_depth=10, n_estimators=3; f1: (train=0.925, test=0.099) total time=   0.2s\n",
            "[CV 2/5] END max_depth=10, n_estimators=3; f1: (train=0.877, test=0.269) total time=   0.3s\n",
            "[CV 3/5] END max_depth=10, n_estimators=3; f1: (train=0.901, test=0.241) total time=   0.3s\n",
            "[CV 4/5] END max_depth=10, n_estimators=3; f1: (train=0.905, test=0.394) total time=   0.2s\n",
            "[CV 5/5] END max_depth=10, n_estimators=3; f1: (train=0.864, test=0.106) total time=   0.2s\n",
            "[CV 1/5] END max_depth=10, n_estimators=4; f1: (train=0.923, test=0.087) total time=   0.3s\n",
            "[CV 2/5] END max_depth=10, n_estimators=4; f1: (train=0.911, test=0.189) total time=   0.3s\n",
            "[CV 3/5] END max_depth=10, n_estimators=4; f1: (train=0.924, test=0.141) total time=   0.3s\n",
            "[CV 4/5] END max_depth=10, n_estimators=4; f1: (train=0.911, test=0.314) total time=   0.3s\n",
            "[CV 5/5] END max_depth=10, n_estimators=4; f1: (train=0.888, test=0.158) total time=   0.3s\n",
            "[CV 1/5] END max_depth=10, n_estimators=5; f1: (train=0.922, test=0.050) total time=   0.3s\n",
            "[CV 2/5] END max_depth=10, n_estimators=5; f1: (train=0.908, test=0.179) total time=   0.3s\n",
            "[CV 3/5] END max_depth=10, n_estimators=5; f1: (train=0.919, test=0.155) total time=   0.3s\n",
            "[CV 4/5] END max_depth=10, n_estimators=5; f1: (train=0.914, test=0.383) total time=   0.3s\n",
            "[CV 5/5] END max_depth=10, n_estimators=5; f1: (train=0.898, test=0.129) total time=   0.3s\n",
            "[CV 1/5] END max_depth=10, n_estimators=6; f1: (train=0.928, test=0.079) total time=   0.3s\n",
            "[CV 2/5] END max_depth=10, n_estimators=6; f1: (train=0.923, test=0.187) total time=   0.3s\n",
            "[CV 3/5] END max_depth=10, n_estimators=6; f1: (train=0.925, test=0.141) total time=   0.3s\n",
            "[CV 4/5] END max_depth=10, n_estimators=6; f1: (train=0.919, test=0.372) total time=   0.3s\n",
            "[CV 5/5] END max_depth=10, n_estimators=6; f1: (train=0.910, test=0.117) total time=   0.3s\n",
            "[CV 1/5] END max_depth=10, n_estimators=7; f1: (train=0.927, test=0.066) total time=   0.3s\n",
            "[CV 2/5] END max_depth=10, n_estimators=7; f1: (train=0.927, test=0.165) total time=   0.3s\n",
            "[CV 3/5] END max_depth=10, n_estimators=7; f1: (train=0.923, test=0.165) total time=   0.3s\n",
            "[CV 4/5] END max_depth=10, n_estimators=7; f1: (train=0.920, test=0.410) total time=   0.2s\n",
            "[CV 5/5] END max_depth=10, n_estimators=7; f1: (train=0.915, test=0.171) total time=   0.3s\n",
            "[CV 1/5] END max_depth=10, n_estimators=8; f1: (train=0.926, test=0.045) total time=   0.3s\n",
            "[CV 2/5] END max_depth=10, n_estimators=8; f1: (train=0.922, test=0.139) total time=   0.3s\n",
            "[CV 3/5] END max_depth=10, n_estimators=8; f1: (train=0.924, test=0.163) total time=   0.2s\n",
            "[CV 4/5] END max_depth=10, n_estimators=8; f1: (train=0.917, test=0.352) total time=   0.2s\n",
            "[CV 5/5] END max_depth=10, n_estimators=8; f1: (train=0.915, test=0.150) total time=   0.3s\n",
            "[CV 1/5] END max_depth=10, n_estimators=9; f1: (train=0.929, test=0.066) total time=   0.3s\n",
            "[CV 2/5] END max_depth=10, n_estimators=9; f1: (train=0.925, test=0.156) total time=   0.2s\n",
            "[CV 3/5] END max_depth=10, n_estimators=9; f1: (train=0.924, test=0.153) total time=   0.3s\n",
            "[CV 4/5] END max_depth=10, n_estimators=9; f1: (train=0.919, test=0.378) total time=   0.3s\n",
            "[CV 5/5] END max_depth=10, n_estimators=9; f1: (train=0.915, test=0.161) total time=   0.3s\n",
            "[CV 1/5] END max_depth=10, n_estimators=10; f1: (train=0.930, test=0.083) total time=   0.3s\n",
            "[CV 2/5] END max_depth=10, n_estimators=10; f1: (train=0.928, test=0.211) total time=   0.3s\n",
            "[CV 3/5] END max_depth=10, n_estimators=10; f1: (train=0.924, test=0.155) total time=   0.3s\n",
            "[CV 4/5] END max_depth=10, n_estimators=10; f1: (train=0.916, test=0.370) total time=   0.2s\n",
            "[CV 5/5] END max_depth=10, n_estimators=10; f1: (train=0.914, test=0.178) total time=   0.2s\n",
            "[CV 1/5] END max_depth=10, n_estimators=100; f1: (train=0.935, test=0.060) total time=   0.8s\n",
            "[CV 2/5] END max_depth=10, n_estimators=100; f1: (train=0.934, test=0.213) total time=   0.8s\n",
            "[CV 3/5] END max_depth=10, n_estimators=100; f1: (train=0.924, test=0.142) total time=   0.9s\n",
            "[CV 4/5] END max_depth=10, n_estimators=100; f1: (train=0.920, test=0.287) total time=   0.9s\n",
            "[CV 5/5] END max_depth=10, n_estimators=100; f1: (train=0.911, test=0.038) total time=   0.8s\n",
            "[CV 1/5] END max_depth=10, n_estimators=300; f1: (train=0.935, test=0.046) total time=   2.0s\n",
            "[CV 2/5] END max_depth=10, n_estimators=300; f1: (train=0.934, test=0.222) total time=   2.0s\n",
            "[CV 3/5] END max_depth=10, n_estimators=300; f1: (train=0.926, test=0.141) total time=   2.0s\n",
            "[CV 4/5] END max_depth=10, n_estimators=300; f1: (train=0.920, test=0.266) total time=   2.1s\n",
            "[CV 5/5] END max_depth=10, n_estimators=300; f1: (train=0.912, test=0.039) total time=   2.0s\n",
            "[CV 1/5] END max_depth=10, n_estimators=500; f1: (train=0.935, test=0.046) total time=   3.2s\n",
            "[CV 2/5] END max_depth=10, n_estimators=500; f1: (train=0.934, test=0.211) total time=   3.3s\n",
            "[CV 3/5] END max_depth=10, n_estimators=500; f1: (train=0.926, test=0.139) total time=   3.2s\n",
            "[CV 4/5] END max_depth=10, n_estimators=500; f1: (train=0.921, test=0.268) total time=   3.3s\n",
            "[CV 5/5] END max_depth=10, n_estimators=500; f1: (train=0.912, test=0.050) total time=   3.2s\n",
            "[CV 1/5] END max_depth=10, n_estimators=700; f1: (train=0.935, test=0.044) total time=   4.3s\n",
            "[CV 2/5] END max_depth=10, n_estimators=700; f1: (train=0.934, test=0.217) total time=   4.3s\n",
            "[CV 3/5] END max_depth=10, n_estimators=700; f1: (train=0.926, test=0.141) total time=   4.4s\n",
            "[CV 4/5] END max_depth=10, n_estimators=700; f1: (train=0.921, test=0.266) total time=   4.5s\n",
            "[CV 5/5] END max_depth=10, n_estimators=700; f1: (train=0.913, test=0.052) total time=   4.3s\n",
            "[CV 1/5] END max_depth=10, n_estimators=900; f1: (train=0.935, test=0.047) total time=   5.3s\n",
            "[CV 2/5] END max_depth=10, n_estimators=900; f1: (train=0.933, test=0.212) total time=   5.6s\n",
            "[CV 3/5] END max_depth=10, n_estimators=900; f1: (train=0.926, test=0.141) total time=   5.5s\n"
          ]
        },
        {
          "output_type": "error",
          "ename": "KeyboardInterrupt",
          "evalue": "ignored",
          "traceback": [
            "\u001b[0;31m---------------------------------------------------------------------------\u001b[0m",
            "\u001b[0;31mKeyboardInterrupt\u001b[0m                         Traceback (most recent call last)",
            "\u001b[0;32m<ipython-input-23-64cec65515ab>\u001b[0m in \u001b[0;36m<module>\u001b[0;34m()\u001b[0m\n\u001b[1;32m      5\u001b[0m \u001b[0;31m# Sequential Grid Search\u001b[0m\u001b[0;34m\u001b[0m\u001b[0;34m\u001b[0m\u001b[0;34m\u001b[0m\u001b[0m\n\u001b[1;32m      6\u001b[0m \u001b[0mrf_grid\u001b[0m \u001b[0;34m=\u001b[0m \u001b[0mGridSearchCV\u001b[0m\u001b[0;34m(\u001b[0m\u001b[0mRandomForestClassifier\u001b[0m\u001b[0;34m(\u001b[0m\u001b[0mn_jobs\u001b[0m\u001b[0;34m=\u001b[0m\u001b[0;34m-\u001b[0m\u001b[0;36m1\u001b[0m\u001b[0;34m,\u001b[0m\u001b[0mrandom_state\u001b[0m\u001b[0;34m=\u001b[0m\u001b[0mrandom_state\u001b[0m\u001b[0;34m)\u001b[0m\u001b[0;34m,\u001b[0m\u001b[0mparameters\u001b[0m\u001b[0;34m,\u001b[0m\u001b[0mcv\u001b[0m\u001b[0;34m=\u001b[0m\u001b[0;36m5\u001b[0m\u001b[0;34m,\u001b[0m\u001b[0mscoring\u001b[0m\u001b[0;34m=\u001b[0m\u001b[0;34m[\u001b[0m\u001b[0;34m'f1'\u001b[0m\u001b[0;34m]\u001b[0m\u001b[0;34m,\u001b[0m\u001b[0mreturn_train_score\u001b[0m\u001b[0;34m=\u001b[0m\u001b[0;32mTrue\u001b[0m\u001b[0;34m,\u001b[0m\u001b[0mrefit\u001b[0m\u001b[0;34m=\u001b[0m\u001b[0;32mFalse\u001b[0m\u001b[0;34m,\u001b[0m\u001b[0mverbose\u001b[0m\u001b[0;34m=\u001b[0m\u001b[0;36m3\u001b[0m\u001b[0;34m)\u001b[0m\u001b[0;34m\u001b[0m\u001b[0;34m\u001b[0m\u001b[0m\n\u001b[0;32m----> 7\u001b[0;31m \u001b[0mrf_grid\u001b[0m \u001b[0;34m=\u001b[0m \u001b[0mrf_grid\u001b[0m\u001b[0;34m.\u001b[0m\u001b[0mfit\u001b[0m\u001b[0;34m(\u001b[0m\u001b[0mX\u001b[0m\u001b[0;34m,\u001b[0m\u001b[0my\u001b[0m\u001b[0;34m)\u001b[0m\u001b[0;34m\u001b[0m\u001b[0;34m\u001b[0m\u001b[0m\n\u001b[0m\u001b[1;32m      8\u001b[0m \u001b[0;34m\u001b[0m\u001b[0m\n\u001b[1;32m      9\u001b[0m \u001b[0;31m# Get Results\u001b[0m\u001b[0;34m\u001b[0m\u001b[0;34m\u001b[0m\u001b[0;34m\u001b[0m\u001b[0m\n",
            "\u001b[0;32m/usr/local/lib/python3.7/dist-packages/sklearn/model_selection/_search.py\u001b[0m in \u001b[0;36mfit\u001b[0;34m(self, X, y, groups, **fit_params)\u001b[0m\n\u001b[1;32m    889\u001b[0m                 \u001b[0;32mreturn\u001b[0m \u001b[0mresults\u001b[0m\u001b[0;34m\u001b[0m\u001b[0;34m\u001b[0m\u001b[0m\n\u001b[1;32m    890\u001b[0m \u001b[0;34m\u001b[0m\u001b[0m\n\u001b[0;32m--> 891\u001b[0;31m             \u001b[0mself\u001b[0m\u001b[0;34m.\u001b[0m\u001b[0m_run_search\u001b[0m\u001b[0;34m(\u001b[0m\u001b[0mevaluate_candidates\u001b[0m\u001b[0;34m)\u001b[0m\u001b[0;34m\u001b[0m\u001b[0;34m\u001b[0m\u001b[0m\n\u001b[0m\u001b[1;32m    892\u001b[0m \u001b[0;34m\u001b[0m\u001b[0m\n\u001b[1;32m    893\u001b[0m             \u001b[0;31m# multimetric is determined here because in the case of a callable\u001b[0m\u001b[0;34m\u001b[0m\u001b[0;34m\u001b[0m\u001b[0;34m\u001b[0m\u001b[0m\n",
            "\u001b[0;32m/usr/local/lib/python3.7/dist-packages/sklearn/model_selection/_search.py\u001b[0m in \u001b[0;36m_run_search\u001b[0;34m(self, evaluate_candidates)\u001b[0m\n\u001b[1;32m   1390\u001b[0m     \u001b[0;32mdef\u001b[0m \u001b[0m_run_search\u001b[0m\u001b[0;34m(\u001b[0m\u001b[0mself\u001b[0m\u001b[0;34m,\u001b[0m \u001b[0mevaluate_candidates\u001b[0m\u001b[0;34m)\u001b[0m\u001b[0;34m:\u001b[0m\u001b[0;34m\u001b[0m\u001b[0;34m\u001b[0m\u001b[0m\n\u001b[1;32m   1391\u001b[0m         \u001b[0;34m\"\"\"Search all candidates in param_grid\"\"\"\u001b[0m\u001b[0;34m\u001b[0m\u001b[0;34m\u001b[0m\u001b[0m\n\u001b[0;32m-> 1392\u001b[0;31m         \u001b[0mevaluate_candidates\u001b[0m\u001b[0;34m(\u001b[0m\u001b[0mParameterGrid\u001b[0m\u001b[0;34m(\u001b[0m\u001b[0mself\u001b[0m\u001b[0;34m.\u001b[0m\u001b[0mparam_grid\u001b[0m\u001b[0;34m)\u001b[0m\u001b[0;34m)\u001b[0m\u001b[0;34m\u001b[0m\u001b[0;34m\u001b[0m\u001b[0m\n\u001b[0m\u001b[1;32m   1393\u001b[0m \u001b[0;34m\u001b[0m\u001b[0m\n\u001b[1;32m   1394\u001b[0m \u001b[0;34m\u001b[0m\u001b[0m\n",
            "\u001b[0;32m/usr/local/lib/python3.7/dist-packages/sklearn/model_selection/_search.py\u001b[0m in \u001b[0;36mevaluate_candidates\u001b[0;34m(candidate_params, cv, more_results)\u001b[0m\n\u001b[1;32m    849\u001b[0m                     )\n\u001b[1;32m    850\u001b[0m                     for (cand_idx, parameters), (split_idx, (train, test)) in product(\n\u001b[0;32m--> 851\u001b[0;31m                         \u001b[0menumerate\u001b[0m\u001b[0;34m(\u001b[0m\u001b[0mcandidate_params\u001b[0m\u001b[0;34m)\u001b[0m\u001b[0;34m,\u001b[0m \u001b[0menumerate\u001b[0m\u001b[0;34m(\u001b[0m\u001b[0mcv\u001b[0m\u001b[0;34m.\u001b[0m\u001b[0msplit\u001b[0m\u001b[0;34m(\u001b[0m\u001b[0mX\u001b[0m\u001b[0;34m,\u001b[0m \u001b[0my\u001b[0m\u001b[0;34m,\u001b[0m \u001b[0mgroups\u001b[0m\u001b[0;34m)\u001b[0m\u001b[0;34m)\u001b[0m\u001b[0;34m\u001b[0m\u001b[0;34m\u001b[0m\u001b[0m\n\u001b[0m\u001b[1;32m    852\u001b[0m                     )\n\u001b[1;32m    853\u001b[0m                 )\n",
            "\u001b[0;32m/usr/local/lib/python3.7/dist-packages/joblib/parallel.py\u001b[0m in \u001b[0;36m__call__\u001b[0;34m(self, iterable)\u001b[0m\n\u001b[1;32m   1044\u001b[0m                 \u001b[0mself\u001b[0m\u001b[0;34m.\u001b[0m\u001b[0m_iterating\u001b[0m \u001b[0;34m=\u001b[0m \u001b[0mself\u001b[0m\u001b[0;34m.\u001b[0m\u001b[0m_original_iterator\u001b[0m \u001b[0;32mis\u001b[0m \u001b[0;32mnot\u001b[0m \u001b[0;32mNone\u001b[0m\u001b[0;34m\u001b[0m\u001b[0;34m\u001b[0m\u001b[0m\n\u001b[1;32m   1045\u001b[0m \u001b[0;34m\u001b[0m\u001b[0m\n\u001b[0;32m-> 1046\u001b[0;31m             \u001b[0;32mwhile\u001b[0m \u001b[0mself\u001b[0m\u001b[0;34m.\u001b[0m\u001b[0mdispatch_one_batch\u001b[0m\u001b[0;34m(\u001b[0m\u001b[0miterator\u001b[0m\u001b[0;34m)\u001b[0m\u001b[0;34m:\u001b[0m\u001b[0;34m\u001b[0m\u001b[0;34m\u001b[0m\u001b[0m\n\u001b[0m\u001b[1;32m   1047\u001b[0m                 \u001b[0;32mpass\u001b[0m\u001b[0;34m\u001b[0m\u001b[0;34m\u001b[0m\u001b[0m\n\u001b[1;32m   1048\u001b[0m \u001b[0;34m\u001b[0m\u001b[0m\n",
            "\u001b[0;32m/usr/local/lib/python3.7/dist-packages/joblib/parallel.py\u001b[0m in \u001b[0;36mdispatch_one_batch\u001b[0;34m(self, iterator)\u001b[0m\n\u001b[1;32m    859\u001b[0m                 \u001b[0;32mreturn\u001b[0m \u001b[0;32mFalse\u001b[0m\u001b[0;34m\u001b[0m\u001b[0;34m\u001b[0m\u001b[0m\n\u001b[1;32m    860\u001b[0m             \u001b[0;32melse\u001b[0m\u001b[0;34m:\u001b[0m\u001b[0;34m\u001b[0m\u001b[0;34m\u001b[0m\u001b[0m\n\u001b[0;32m--> 861\u001b[0;31m                 \u001b[0mself\u001b[0m\u001b[0;34m.\u001b[0m\u001b[0m_dispatch\u001b[0m\u001b[0;34m(\u001b[0m\u001b[0mtasks\u001b[0m\u001b[0;34m)\u001b[0m\u001b[0;34m\u001b[0m\u001b[0;34m\u001b[0m\u001b[0m\n\u001b[0m\u001b[1;32m    862\u001b[0m                 \u001b[0;32mreturn\u001b[0m \u001b[0;32mTrue\u001b[0m\u001b[0;34m\u001b[0m\u001b[0;34m\u001b[0m\u001b[0m\n\u001b[1;32m    863\u001b[0m \u001b[0;34m\u001b[0m\u001b[0m\n",
            "\u001b[0;32m/usr/local/lib/python3.7/dist-packages/joblib/parallel.py\u001b[0m in \u001b[0;36m_dispatch\u001b[0;34m(self, batch)\u001b[0m\n\u001b[1;32m    777\u001b[0m         \u001b[0;32mwith\u001b[0m \u001b[0mself\u001b[0m\u001b[0;34m.\u001b[0m\u001b[0m_lock\u001b[0m\u001b[0;34m:\u001b[0m\u001b[0;34m\u001b[0m\u001b[0;34m\u001b[0m\u001b[0m\n\u001b[1;32m    778\u001b[0m             \u001b[0mjob_idx\u001b[0m \u001b[0;34m=\u001b[0m \u001b[0mlen\u001b[0m\u001b[0;34m(\u001b[0m\u001b[0mself\u001b[0m\u001b[0;34m.\u001b[0m\u001b[0m_jobs\u001b[0m\u001b[0;34m)\u001b[0m\u001b[0;34m\u001b[0m\u001b[0;34m\u001b[0m\u001b[0m\n\u001b[0;32m--> 779\u001b[0;31m             \u001b[0mjob\u001b[0m \u001b[0;34m=\u001b[0m \u001b[0mself\u001b[0m\u001b[0;34m.\u001b[0m\u001b[0m_backend\u001b[0m\u001b[0;34m.\u001b[0m\u001b[0mapply_async\u001b[0m\u001b[0;34m(\u001b[0m\u001b[0mbatch\u001b[0m\u001b[0;34m,\u001b[0m \u001b[0mcallback\u001b[0m\u001b[0;34m=\u001b[0m\u001b[0mcb\u001b[0m\u001b[0;34m)\u001b[0m\u001b[0;34m\u001b[0m\u001b[0;34m\u001b[0m\u001b[0m\n\u001b[0m\u001b[1;32m    780\u001b[0m             \u001b[0;31m# A job can complete so quickly than its callback is\u001b[0m\u001b[0;34m\u001b[0m\u001b[0;34m\u001b[0m\u001b[0;34m\u001b[0m\u001b[0m\n\u001b[1;32m    781\u001b[0m             \u001b[0;31m# called before we get here, causing self._jobs to\u001b[0m\u001b[0;34m\u001b[0m\u001b[0;34m\u001b[0m\u001b[0;34m\u001b[0m\u001b[0m\n",
            "\u001b[0;32m/usr/local/lib/python3.7/dist-packages/joblib/_parallel_backends.py\u001b[0m in \u001b[0;36mapply_async\u001b[0;34m(self, func, callback)\u001b[0m\n\u001b[1;32m    206\u001b[0m     \u001b[0;32mdef\u001b[0m \u001b[0mapply_async\u001b[0m\u001b[0;34m(\u001b[0m\u001b[0mself\u001b[0m\u001b[0;34m,\u001b[0m \u001b[0mfunc\u001b[0m\u001b[0;34m,\u001b[0m \u001b[0mcallback\u001b[0m\u001b[0;34m=\u001b[0m\u001b[0;32mNone\u001b[0m\u001b[0;34m)\u001b[0m\u001b[0;34m:\u001b[0m\u001b[0;34m\u001b[0m\u001b[0;34m\u001b[0m\u001b[0m\n\u001b[1;32m    207\u001b[0m         \u001b[0;34m\"\"\"Schedule a func to be run\"\"\"\u001b[0m\u001b[0;34m\u001b[0m\u001b[0;34m\u001b[0m\u001b[0m\n\u001b[0;32m--> 208\u001b[0;31m         \u001b[0mresult\u001b[0m \u001b[0;34m=\u001b[0m \u001b[0mImmediateResult\u001b[0m\u001b[0;34m(\u001b[0m\u001b[0mfunc\u001b[0m\u001b[0;34m)\u001b[0m\u001b[0;34m\u001b[0m\u001b[0;34m\u001b[0m\u001b[0m\n\u001b[0m\u001b[1;32m    209\u001b[0m         \u001b[0;32mif\u001b[0m \u001b[0mcallback\u001b[0m\u001b[0;34m:\u001b[0m\u001b[0;34m\u001b[0m\u001b[0;34m\u001b[0m\u001b[0m\n\u001b[1;32m    210\u001b[0m             \u001b[0mcallback\u001b[0m\u001b[0;34m(\u001b[0m\u001b[0mresult\u001b[0m\u001b[0;34m)\u001b[0m\u001b[0;34m\u001b[0m\u001b[0;34m\u001b[0m\u001b[0m\n",
            "\u001b[0;32m/usr/local/lib/python3.7/dist-packages/joblib/_parallel_backends.py\u001b[0m in \u001b[0;36m__init__\u001b[0;34m(self, batch)\u001b[0m\n\u001b[1;32m    570\u001b[0m         \u001b[0;31m# Don't delay the application, to avoid keeping the input\u001b[0m\u001b[0;34m\u001b[0m\u001b[0;34m\u001b[0m\u001b[0;34m\u001b[0m\u001b[0m\n\u001b[1;32m    571\u001b[0m         \u001b[0;31m# arguments in memory\u001b[0m\u001b[0;34m\u001b[0m\u001b[0;34m\u001b[0m\u001b[0;34m\u001b[0m\u001b[0m\n\u001b[0;32m--> 572\u001b[0;31m         \u001b[0mself\u001b[0m\u001b[0;34m.\u001b[0m\u001b[0mresults\u001b[0m \u001b[0;34m=\u001b[0m \u001b[0mbatch\u001b[0m\u001b[0;34m(\u001b[0m\u001b[0;34m)\u001b[0m\u001b[0;34m\u001b[0m\u001b[0;34m\u001b[0m\u001b[0m\n\u001b[0m\u001b[1;32m    573\u001b[0m \u001b[0;34m\u001b[0m\u001b[0m\n\u001b[1;32m    574\u001b[0m     \u001b[0;32mdef\u001b[0m \u001b[0mget\u001b[0m\u001b[0;34m(\u001b[0m\u001b[0mself\u001b[0m\u001b[0;34m)\u001b[0m\u001b[0;34m:\u001b[0m\u001b[0;34m\u001b[0m\u001b[0;34m\u001b[0m\u001b[0m\n",
            "\u001b[0;32m/usr/local/lib/python3.7/dist-packages/joblib/parallel.py\u001b[0m in \u001b[0;36m__call__\u001b[0;34m(self)\u001b[0m\n\u001b[1;32m    261\u001b[0m         \u001b[0;32mwith\u001b[0m \u001b[0mparallel_backend\u001b[0m\u001b[0;34m(\u001b[0m\u001b[0mself\u001b[0m\u001b[0;34m.\u001b[0m\u001b[0m_backend\u001b[0m\u001b[0;34m,\u001b[0m \u001b[0mn_jobs\u001b[0m\u001b[0;34m=\u001b[0m\u001b[0mself\u001b[0m\u001b[0;34m.\u001b[0m\u001b[0m_n_jobs\u001b[0m\u001b[0;34m)\u001b[0m\u001b[0;34m:\u001b[0m\u001b[0;34m\u001b[0m\u001b[0;34m\u001b[0m\u001b[0m\n\u001b[1;32m    262\u001b[0m             return [func(*args, **kwargs)\n\u001b[0;32m--> 263\u001b[0;31m                     for func, args, kwargs in self.items]\n\u001b[0m\u001b[1;32m    264\u001b[0m \u001b[0;34m\u001b[0m\u001b[0m\n\u001b[1;32m    265\u001b[0m     \u001b[0;32mdef\u001b[0m \u001b[0m__reduce__\u001b[0m\u001b[0;34m(\u001b[0m\u001b[0mself\u001b[0m\u001b[0;34m)\u001b[0m\u001b[0;34m:\u001b[0m\u001b[0;34m\u001b[0m\u001b[0;34m\u001b[0m\u001b[0m\n",
            "\u001b[0;32m/usr/local/lib/python3.7/dist-packages/joblib/parallel.py\u001b[0m in \u001b[0;36m<listcomp>\u001b[0;34m(.0)\u001b[0m\n\u001b[1;32m    261\u001b[0m         \u001b[0;32mwith\u001b[0m \u001b[0mparallel_backend\u001b[0m\u001b[0;34m(\u001b[0m\u001b[0mself\u001b[0m\u001b[0;34m.\u001b[0m\u001b[0m_backend\u001b[0m\u001b[0;34m,\u001b[0m \u001b[0mn_jobs\u001b[0m\u001b[0;34m=\u001b[0m\u001b[0mself\u001b[0m\u001b[0;34m.\u001b[0m\u001b[0m_n_jobs\u001b[0m\u001b[0;34m)\u001b[0m\u001b[0;34m:\u001b[0m\u001b[0;34m\u001b[0m\u001b[0;34m\u001b[0m\u001b[0m\n\u001b[1;32m    262\u001b[0m             return [func(*args, **kwargs)\n\u001b[0;32m--> 263\u001b[0;31m                     for func, args, kwargs in self.items]\n\u001b[0m\u001b[1;32m    264\u001b[0m \u001b[0;34m\u001b[0m\u001b[0m\n\u001b[1;32m    265\u001b[0m     \u001b[0;32mdef\u001b[0m \u001b[0m__reduce__\u001b[0m\u001b[0;34m(\u001b[0m\u001b[0mself\u001b[0m\u001b[0;34m)\u001b[0m\u001b[0;34m:\u001b[0m\u001b[0;34m\u001b[0m\u001b[0;34m\u001b[0m\u001b[0m\n",
            "\u001b[0;32m/usr/local/lib/python3.7/dist-packages/sklearn/utils/fixes.py\u001b[0m in \u001b[0;36m__call__\u001b[0;34m(self, *args, **kwargs)\u001b[0m\n\u001b[1;32m    214\u001b[0m     \u001b[0;32mdef\u001b[0m \u001b[0m__call__\u001b[0m\u001b[0;34m(\u001b[0m\u001b[0mself\u001b[0m\u001b[0;34m,\u001b[0m \u001b[0;34m*\u001b[0m\u001b[0margs\u001b[0m\u001b[0;34m,\u001b[0m \u001b[0;34m**\u001b[0m\u001b[0mkwargs\u001b[0m\u001b[0;34m)\u001b[0m\u001b[0;34m:\u001b[0m\u001b[0;34m\u001b[0m\u001b[0;34m\u001b[0m\u001b[0m\n\u001b[1;32m    215\u001b[0m         \u001b[0;32mwith\u001b[0m \u001b[0mconfig_context\u001b[0m\u001b[0;34m(\u001b[0m\u001b[0;34m**\u001b[0m\u001b[0mself\u001b[0m\u001b[0;34m.\u001b[0m\u001b[0mconfig\u001b[0m\u001b[0;34m)\u001b[0m\u001b[0;34m:\u001b[0m\u001b[0;34m\u001b[0m\u001b[0;34m\u001b[0m\u001b[0m\n\u001b[0;32m--> 216\u001b[0;31m             \u001b[0;32mreturn\u001b[0m \u001b[0mself\u001b[0m\u001b[0;34m.\u001b[0m\u001b[0mfunction\u001b[0m\u001b[0;34m(\u001b[0m\u001b[0;34m*\u001b[0m\u001b[0margs\u001b[0m\u001b[0;34m,\u001b[0m \u001b[0;34m**\u001b[0m\u001b[0mkwargs\u001b[0m\u001b[0;34m)\u001b[0m\u001b[0;34m\u001b[0m\u001b[0;34m\u001b[0m\u001b[0m\n\u001b[0m\u001b[1;32m    217\u001b[0m \u001b[0;34m\u001b[0m\u001b[0m\n\u001b[1;32m    218\u001b[0m \u001b[0;34m\u001b[0m\u001b[0m\n",
            "\u001b[0;32m/usr/local/lib/python3.7/dist-packages/sklearn/model_selection/_validation.py\u001b[0m in \u001b[0;36m_fit_and_score\u001b[0;34m(estimator, X, y, scorer, train, test, verbose, parameters, fit_params, return_train_score, return_parameters, return_n_test_samples, return_times, return_estimator, split_progress, candidate_progress, error_score)\u001b[0m\n\u001b[1;32m    678\u001b[0m             \u001b[0mestimator\u001b[0m\u001b[0;34m.\u001b[0m\u001b[0mfit\u001b[0m\u001b[0;34m(\u001b[0m\u001b[0mX_train\u001b[0m\u001b[0;34m,\u001b[0m \u001b[0;34m**\u001b[0m\u001b[0mfit_params\u001b[0m\u001b[0;34m)\u001b[0m\u001b[0;34m\u001b[0m\u001b[0;34m\u001b[0m\u001b[0m\n\u001b[1;32m    679\u001b[0m         \u001b[0;32melse\u001b[0m\u001b[0;34m:\u001b[0m\u001b[0;34m\u001b[0m\u001b[0;34m\u001b[0m\u001b[0m\n\u001b[0;32m--> 680\u001b[0;31m             \u001b[0mestimator\u001b[0m\u001b[0;34m.\u001b[0m\u001b[0mfit\u001b[0m\u001b[0;34m(\u001b[0m\u001b[0mX_train\u001b[0m\u001b[0;34m,\u001b[0m \u001b[0my_train\u001b[0m\u001b[0;34m,\u001b[0m \u001b[0;34m**\u001b[0m\u001b[0mfit_params\u001b[0m\u001b[0;34m)\u001b[0m\u001b[0;34m\u001b[0m\u001b[0;34m\u001b[0m\u001b[0m\n\u001b[0m\u001b[1;32m    681\u001b[0m \u001b[0;34m\u001b[0m\u001b[0m\n\u001b[1;32m    682\u001b[0m     \u001b[0;32mexcept\u001b[0m \u001b[0mException\u001b[0m\u001b[0;34m:\u001b[0m\u001b[0;34m\u001b[0m\u001b[0;34m\u001b[0m\u001b[0m\n",
            "\u001b[0;32m/usr/local/lib/python3.7/dist-packages/sklearn/ensemble/_forest.py\u001b[0m in \u001b[0;36mfit\u001b[0;34m(self, X, y, sample_weight)\u001b[0m\n\u001b[1;32m    465\u001b[0m                     \u001b[0mn_samples_bootstrap\u001b[0m\u001b[0;34m=\u001b[0m\u001b[0mn_samples_bootstrap\u001b[0m\u001b[0;34m,\u001b[0m\u001b[0;34m\u001b[0m\u001b[0;34m\u001b[0m\u001b[0m\n\u001b[1;32m    466\u001b[0m                 )\n\u001b[0;32m--> 467\u001b[0;31m                 \u001b[0;32mfor\u001b[0m \u001b[0mi\u001b[0m\u001b[0;34m,\u001b[0m \u001b[0mt\u001b[0m \u001b[0;32min\u001b[0m \u001b[0menumerate\u001b[0m\u001b[0;34m(\u001b[0m\u001b[0mtrees\u001b[0m\u001b[0;34m)\u001b[0m\u001b[0;34m\u001b[0m\u001b[0;34m\u001b[0m\u001b[0m\n\u001b[0m\u001b[1;32m    468\u001b[0m             )\n\u001b[1;32m    469\u001b[0m \u001b[0;34m\u001b[0m\u001b[0m\n",
            "\u001b[0;32m/usr/local/lib/python3.7/dist-packages/joblib/parallel.py\u001b[0m in \u001b[0;36m__call__\u001b[0;34m(self, iterable)\u001b[0m\n\u001b[1;32m   1054\u001b[0m \u001b[0;34m\u001b[0m\u001b[0m\n\u001b[1;32m   1055\u001b[0m             \u001b[0;32mwith\u001b[0m \u001b[0mself\u001b[0m\u001b[0;34m.\u001b[0m\u001b[0m_backend\u001b[0m\u001b[0;34m.\u001b[0m\u001b[0mretrieval_context\u001b[0m\u001b[0;34m(\u001b[0m\u001b[0;34m)\u001b[0m\u001b[0;34m:\u001b[0m\u001b[0;34m\u001b[0m\u001b[0;34m\u001b[0m\u001b[0m\n\u001b[0;32m-> 1056\u001b[0;31m                 \u001b[0mself\u001b[0m\u001b[0;34m.\u001b[0m\u001b[0mretrieve\u001b[0m\u001b[0;34m(\u001b[0m\u001b[0;34m)\u001b[0m\u001b[0;34m\u001b[0m\u001b[0;34m\u001b[0m\u001b[0m\n\u001b[0m\u001b[1;32m   1057\u001b[0m             \u001b[0;31m# Make sure that we get a last message telling us we are done\u001b[0m\u001b[0;34m\u001b[0m\u001b[0;34m\u001b[0m\u001b[0;34m\u001b[0m\u001b[0m\n\u001b[1;32m   1058\u001b[0m             \u001b[0melapsed_time\u001b[0m \u001b[0;34m=\u001b[0m \u001b[0mtime\u001b[0m\u001b[0;34m.\u001b[0m\u001b[0mtime\u001b[0m\u001b[0;34m(\u001b[0m\u001b[0;34m)\u001b[0m \u001b[0;34m-\u001b[0m \u001b[0mself\u001b[0m\u001b[0;34m.\u001b[0m\u001b[0m_start_time\u001b[0m\u001b[0;34m\u001b[0m\u001b[0;34m\u001b[0m\u001b[0m\n",
            "\u001b[0;32m/usr/local/lib/python3.7/dist-packages/joblib/parallel.py\u001b[0m in \u001b[0;36mretrieve\u001b[0;34m(self)\u001b[0m\n\u001b[1;32m    933\u001b[0m             \u001b[0;32mtry\u001b[0m\u001b[0;34m:\u001b[0m\u001b[0;34m\u001b[0m\u001b[0;34m\u001b[0m\u001b[0m\n\u001b[1;32m    934\u001b[0m                 \u001b[0;32mif\u001b[0m \u001b[0mgetattr\u001b[0m\u001b[0;34m(\u001b[0m\u001b[0mself\u001b[0m\u001b[0;34m.\u001b[0m\u001b[0m_backend\u001b[0m\u001b[0;34m,\u001b[0m \u001b[0;34m'supports_timeout'\u001b[0m\u001b[0;34m,\u001b[0m \u001b[0;32mFalse\u001b[0m\u001b[0;34m)\u001b[0m\u001b[0;34m:\u001b[0m\u001b[0;34m\u001b[0m\u001b[0;34m\u001b[0m\u001b[0m\n\u001b[0;32m--> 935\u001b[0;31m                     \u001b[0mself\u001b[0m\u001b[0;34m.\u001b[0m\u001b[0m_output\u001b[0m\u001b[0;34m.\u001b[0m\u001b[0mextend\u001b[0m\u001b[0;34m(\u001b[0m\u001b[0mjob\u001b[0m\u001b[0;34m.\u001b[0m\u001b[0mget\u001b[0m\u001b[0;34m(\u001b[0m\u001b[0mtimeout\u001b[0m\u001b[0;34m=\u001b[0m\u001b[0mself\u001b[0m\u001b[0;34m.\u001b[0m\u001b[0mtimeout\u001b[0m\u001b[0;34m)\u001b[0m\u001b[0;34m)\u001b[0m\u001b[0;34m\u001b[0m\u001b[0;34m\u001b[0m\u001b[0m\n\u001b[0m\u001b[1;32m    936\u001b[0m                 \u001b[0;32melse\u001b[0m\u001b[0;34m:\u001b[0m\u001b[0;34m\u001b[0m\u001b[0;34m\u001b[0m\u001b[0m\n\u001b[1;32m    937\u001b[0m                     \u001b[0mself\u001b[0m\u001b[0;34m.\u001b[0m\u001b[0m_output\u001b[0m\u001b[0;34m.\u001b[0m\u001b[0mextend\u001b[0m\u001b[0;34m(\u001b[0m\u001b[0mjob\u001b[0m\u001b[0;34m.\u001b[0m\u001b[0mget\u001b[0m\u001b[0;34m(\u001b[0m\u001b[0;34m)\u001b[0m\u001b[0;34m)\u001b[0m\u001b[0;34m\u001b[0m\u001b[0;34m\u001b[0m\u001b[0m\n",
            "\u001b[0;32m/usr/local/lib/python3.7/dist-packages/joblib/_parallel_backends.py\u001b[0m in \u001b[0;36mwrap_future_result\u001b[0;34m(future, timeout)\u001b[0m\n\u001b[1;32m    540\u001b[0m         AsyncResults.get from multiprocessing.\"\"\"\n\u001b[1;32m    541\u001b[0m         \u001b[0;32mtry\u001b[0m\u001b[0;34m:\u001b[0m\u001b[0;34m\u001b[0m\u001b[0;34m\u001b[0m\u001b[0m\n\u001b[0;32m--> 542\u001b[0;31m             \u001b[0;32mreturn\u001b[0m \u001b[0mfuture\u001b[0m\u001b[0;34m.\u001b[0m\u001b[0mresult\u001b[0m\u001b[0;34m(\u001b[0m\u001b[0mtimeout\u001b[0m\u001b[0;34m=\u001b[0m\u001b[0mtimeout\u001b[0m\u001b[0;34m)\u001b[0m\u001b[0;34m\u001b[0m\u001b[0;34m\u001b[0m\u001b[0m\n\u001b[0m\u001b[1;32m    543\u001b[0m         \u001b[0;32mexcept\u001b[0m \u001b[0mCfTimeoutError\u001b[0m \u001b[0;32mas\u001b[0m \u001b[0me\u001b[0m\u001b[0;34m:\u001b[0m\u001b[0;34m\u001b[0m\u001b[0;34m\u001b[0m\u001b[0m\n\u001b[1;32m    544\u001b[0m             \u001b[0;32mraise\u001b[0m \u001b[0mTimeoutError\u001b[0m \u001b[0;32mfrom\u001b[0m \u001b[0me\u001b[0m\u001b[0;34m\u001b[0m\u001b[0;34m\u001b[0m\u001b[0m\n",
            "\u001b[0;32m/usr/lib/python3.7/concurrent/futures/_base.py\u001b[0m in \u001b[0;36mresult\u001b[0;34m(self, timeout)\u001b[0m\n\u001b[1;32m    428\u001b[0m                 \u001b[0;32mreturn\u001b[0m \u001b[0mself\u001b[0m\u001b[0;34m.\u001b[0m\u001b[0m__get_result\u001b[0m\u001b[0;34m(\u001b[0m\u001b[0;34m)\u001b[0m\u001b[0;34m\u001b[0m\u001b[0;34m\u001b[0m\u001b[0m\n\u001b[1;32m    429\u001b[0m \u001b[0;34m\u001b[0m\u001b[0m\n\u001b[0;32m--> 430\u001b[0;31m             \u001b[0mself\u001b[0m\u001b[0;34m.\u001b[0m\u001b[0m_condition\u001b[0m\u001b[0;34m.\u001b[0m\u001b[0mwait\u001b[0m\u001b[0;34m(\u001b[0m\u001b[0mtimeout\u001b[0m\u001b[0;34m)\u001b[0m\u001b[0;34m\u001b[0m\u001b[0;34m\u001b[0m\u001b[0m\n\u001b[0m\u001b[1;32m    431\u001b[0m \u001b[0;34m\u001b[0m\u001b[0m\n\u001b[1;32m    432\u001b[0m             \u001b[0;32mif\u001b[0m \u001b[0mself\u001b[0m\u001b[0;34m.\u001b[0m\u001b[0m_state\u001b[0m \u001b[0;32min\u001b[0m \u001b[0;34m[\u001b[0m\u001b[0mCANCELLED\u001b[0m\u001b[0;34m,\u001b[0m \u001b[0mCANCELLED_AND_NOTIFIED\u001b[0m\u001b[0;34m]\u001b[0m\u001b[0;34m:\u001b[0m\u001b[0;34m\u001b[0m\u001b[0;34m\u001b[0m\u001b[0m\n",
            "\u001b[0;32m/usr/lib/python3.7/threading.py\u001b[0m in \u001b[0;36mwait\u001b[0;34m(self, timeout)\u001b[0m\n\u001b[1;32m    294\u001b[0m         \u001b[0;32mtry\u001b[0m\u001b[0;34m:\u001b[0m    \u001b[0;31m# restore state no matter what (e.g., KeyboardInterrupt)\u001b[0m\u001b[0;34m\u001b[0m\u001b[0;34m\u001b[0m\u001b[0m\n\u001b[1;32m    295\u001b[0m             \u001b[0;32mif\u001b[0m \u001b[0mtimeout\u001b[0m \u001b[0;32mis\u001b[0m \u001b[0;32mNone\u001b[0m\u001b[0;34m:\u001b[0m\u001b[0;34m\u001b[0m\u001b[0;34m\u001b[0m\u001b[0m\n\u001b[0;32m--> 296\u001b[0;31m                 \u001b[0mwaiter\u001b[0m\u001b[0;34m.\u001b[0m\u001b[0macquire\u001b[0m\u001b[0;34m(\u001b[0m\u001b[0;34m)\u001b[0m\u001b[0;34m\u001b[0m\u001b[0;34m\u001b[0m\u001b[0m\n\u001b[0m\u001b[1;32m    297\u001b[0m                 \u001b[0mgotit\u001b[0m \u001b[0;34m=\u001b[0m \u001b[0;32mTrue\u001b[0m\u001b[0;34m\u001b[0m\u001b[0;34m\u001b[0m\u001b[0m\n\u001b[1;32m    298\u001b[0m             \u001b[0;32melse\u001b[0m\u001b[0;34m:\u001b[0m\u001b[0;34m\u001b[0m\u001b[0;34m\u001b[0m\u001b[0m\n",
            "\u001b[0;31mKeyboardInterrupt\u001b[0m: "
          ]
        }
      ]
    },
    {
      "cell_type": "markdown",
      "source": [
        "###B:SVC() model using the sigmoid kernel\n"
      ],
      "metadata": {
        "id": "TpdSQ_Yfy61E"
      }
    },
    {
      "cell_type": "code",
      "source": [
        "parameters_svm_sig = {'C':list(range(1,11))}\n",
        "sig_grid = GridSearchCV(SVC(kernel='sigmoid',random_state=random_state),parameters_svm_sig,cv=5,scoring=['f1'],return_train_score=True,refit='f1',verbose=3)\n",
        "sig_grid = sig_grid.fit(X,y)\n",
        "\n",
        "results = sig_grid.cv_results_\n",
        "pd.DataFrame(results)[['param_C',\n",
        "                       'mean_fit_time',\n",
        "                       'mean_score_time',\n",
        "                       'mean_train_f1',\n",
        "                       'mean_test_f1']].sort_values('mean_test_f1',ascending=False).head(10)"
      ],
      "metadata": {
        "id": "ST5SgID-y9yu"
      },
      "execution_count": null,
      "outputs": []
    },
    {
      "cell_type": "code",
      "source": [
        "results = sig_grid.cv_results_\n",
        "pd.DataFrame(results)[['param_C',\n",
        "                       'mean_fit_time',\n",
        "                       'mean_score_time',\n",
        "                       'mean_train_f1',\n",
        "                       'mean_test_f1']].sort_values('mean_test_f1',ascending=False).head(10)"
      ],
      "metadata": {
        "id": "Xzv2WC-sy_yy"
      },
      "execution_count": null,
      "outputs": []
    },
    {
      "cell_type": "markdown",
      "source": [
        "###C:SVC() model using radial basis function kernel\n"
      ],
      "metadata": {
        "id": "AzhQ1nRlzBbL"
      }
    },
    {
      "cell_type": "code",
      "source": [
        "parameters_svm_sig = {'C':list(range(1,11))}\n",
        "basis_grid = GridSearchCV(SVC(kernel='rbf',random_state=random_state),parameters_svm_sig,cv=5,scoring=['f1'],return_train_score=True,refit='f1',verbose=3)\n",
        "basis_grid = basis_grid.fit(X,y)\n",
        "\n",
        "basis_results = basis_grid.cv_results_\n",
        "pd.DataFrame(basis_results)[['param_C',\n",
        "                       'mean_fit_time',\n",
        "                       'mean_score_time',\n",
        "                       'mean_train_f1',\n",
        "                       'mean_test_f1']].sort_values('mean_test_f1',ascending=False).head(10)\n"
      ],
      "metadata": {
        "id": "FJrfVRGXzCvT"
      },
      "execution_count": null,
      "outputs": []
    },
    {
      "cell_type": "markdown",
      "source": [
        "##Task IV: Majority Voting\n"
      ],
      "metadata": {
        "id": "_HfqYbSuzCTN"
      }
    },
    {
      "cell_type": "markdown",
      "source": [
        "###A: Instantiate three new respective models"
      ],
      "metadata": {
        "id": "0HhsbSqXzGkH"
      }
    },
    {
      "cell_type": "code",
      "source": [
        "# Random Forest\n",
        "model1_grid = RandomForestClassifier(random_state=random_state,n_estimators=2,max_depth=5)\n",
        "# SVM with Sigmoid Kernel\n",
        "model2_grid =SVC(kernel='sigmoid',random_state=random_state, C=1)\n",
        "# SVM with RBF Kernel \n",
        "model3_grid = SVC(kernel='rbf',random_state=random_state, C=9)"
      ],
      "metadata": {
        "id": "6NmFubzpzGGs"
      },
      "execution_count": null,
      "outputs": []
    },
    {
      "cell_type": "markdown",
      "source": [
        "##B: Include models in a VotingClassifier()\n"
      ],
      "metadata": {
        "id": "MPmRZ2-pzO6f"
      }
    },
    {
      "cell_type": "code",
      "source": [
        "voting_grid_model = VotingClassifier(estimators=[('rf',model1_grid),\n",
        "                                                 ('svm_sigmoid',model2_grid),\n",
        "                                                 ('svm_rbf',model3_grid)],\n",
        "                                     voting='hard')"
      ],
      "metadata": {
        "id": "R5yXUrWuzRGm"
      },
      "execution_count": null,
      "outputs": []
    },
    {
      "cell_type": "markdown",
      "source": [
        "###C: Evaluate model\n"
      ],
      "metadata": {
        "id": "X1f5t_jczRrC"
      }
    },
    {
      "cell_type": "code",
      "source": [
        "voting_grid_df = pd.DataFrame(cross_validate(voting_grid_model,X,y,cv=5,scoring=['f1'],return_train_score=True)).agg('mean').round(5)\n",
        "voting_grid_df"
      ],
      "metadata": {
        "id": "jH_oSJQkzTM9"
      },
      "execution_count": null,
      "outputs": []
    },
    {
      "cell_type": "markdown",
      "source": [
        "##Task V: Gradient Boosting\n"
      ],
      "metadata": {
        "id": "puv__JBRzU_E"
      }
    },
    {
      "cell_type": "markdown",
      "source": [
        "###A: Select parameters\n"
      ],
      "metadata": {
        "id": "qYxj5x9kzXh2"
      }
    },
    {
      "cell_type": "code",
      "source": [
        "grb_parameters = {'max_depth':list(range(5,11)),\n",
        "              'n_estimators':[2,4,6,8,10,100,300,400,700]}"
      ],
      "metadata": {
        "id": "0M7KscKwzUtT"
      },
      "execution_count": null,
      "outputs": []
    },
    {
      "cell_type": "markdown",
      "source": [
        "###B: Create and fit a GradientBoostingClassifier()\n"
      ],
      "metadata": {
        "id": "k3MzFS2qza2C"
      }
    },
    {
      "cell_type": "code",
      "source": [
        "grb_grid = GridSearchCV(GradientBoostingClassifier(random_state=random_state),grb_parameters,cv=5,scoring=['f1'],return_train_score=True,refit=False,verbose=3)\n",
        "grb_grid = grb_grid.fit(X,y)\n"
      ],
      "metadata": {
        "id": "53m9zAL5zb9G"
      },
      "execution_count": null,
      "outputs": []
    },
    {
      "cell_type": "markdown",
      "source": [
        "###C: Show results\n"
      ],
      "metadata": {
        "id": "NHW9R1sHzdly"
      }
    },
    {
      "cell_type": "code",
      "source": [
        "grb_results = grb_grid.cv_results_\n",
        "pd.DataFrame(grb_results)[['param_max_depth',\n",
        "                       'param_n_estimators',\n",
        "                       'mean_fit_time',\n",
        "                       'mean_score_time',\n",
        "                       'mean_train_f1',\n",
        "                       'mean_test_f1']].sort_values('mean_test_f1',ascending=False).head(10)\n"
      ],
      "metadata": {
        "id": "AujjbI3Bzg4N"
      },
      "execution_count": null,
      "outputs": []
    },
    {
      "cell_type": "markdown",
      "source": [
        "##Task VI: Stacked Gradient Boosting\n"
      ],
      "metadata": {
        "id": "HG7Mg5FpzihN"
      }
    },
    {
      "cell_type": "markdown",
      "source": [
        "###A: Assign three new models\n"
      ],
      "metadata": {
        "id": "12FUj85VzkxO"
      }
    },
    {
      "cell_type": "code",
      "source": [
        "# Random Forest\n",
        "model1 = RandomForestClassifier(random_state=random_state,n_estimators=2,max_depth=5)\n",
        "# SVM with Sigmoid Kernel\n",
        "model2 =SVC(kernel='sigmoid',random_state=random_state, C=1)\n",
        "# SVM with RBF Kernel \n",
        "model3 = SVC(kernel='rbf',random_state=random_state, C=9)"
      ],
      "metadata": {
        "id": "RIaV6NNnznQT"
      },
      "execution_count": null,
      "outputs": []
    },
    {
      "cell_type": "markdown",
      "source": [
        "##B: Define estimators and final_estimator\n"
      ],
      "metadata": {
        "id": "0nFqg3Q5znvj"
      }
    },
    {
      "cell_type": "code",
      "source": [
        "# Collection of Models for the Stack\n",
        "estimators = [('rf',model1),\n",
        "              ('svm_sigmoid',model2),\n",
        "              ('svm_rbf',model3)]\n",
        "\n",
        "# Define the Gradient Boosting Estimator for the Stack\n",
        "final_estimator = GradientBoostingClassifier(n_estimators=25,\n",
        "                                             subsample=0.5,\n",
        "                                             min_samples_leaf=25,\n",
        "                                             max_features=1,\n",
        "                                             random_state=random_state)\n",
        "\n",
        "# Define the Stacking Model\n",
        "stacked_model = StackingClassifier(estimators=estimators,final_estimator=final_estimator)\n"
      ],
      "metadata": {
        "id": "SG865Y_Jzp9u"
      },
      "execution_count": null,
      "outputs": []
    },
    {
      "cell_type": "markdown",
      "source": [
        "###C: Display results\n"
      ],
      "metadata": {
        "id": "cZCHne2VzrZN"
      }
    },
    {
      "cell_type": "code",
      "source": [
        "stacked_df = pd.DataFrame(cross_validate(stacked_model,X,y,scoring=['f1'],return_train_score=True)).agg('mean').round(5)\n",
        "stacked_df"
      ],
      "metadata": {
        "id": "sKMMhSCqzsUy"
      },
      "execution_count": null,
      "outputs": []
    },
    {
      "cell_type": "markdown",
      "source": [
        "##Task VII: Logistic Regression\n"
      ],
      "metadata": {
        "id": "QZCNoajCzvXk"
      }
    },
    {
      "cell_type": "markdown",
      "source": [
        "###A: Define and Fit a LogisticRegression() model\n"
      ],
      "metadata": {
        "id": "MhzU7LXcz01C"
      }
    },
    {
      "cell_type": "code",
      "source": [
        "lr_model = LogisticRegression(random_state=random_state).fit(X_train,y_train)\n"
      ],
      "metadata": {
        "id": "x0HKqxpNzx7G"
      },
      "execution_count": null,
      "outputs": []
    },
    {
      "cell_type": "markdown",
      "source": [
        "###B: Make predictions on test data\n"
      ],
      "metadata": {
        "id": "Hr5inburz3e1"
      }
    },
    {
      "cell_type": "code",
      "source": [
        "lr_predictions = lr_model.predict(X_test)\n"
      ],
      "metadata": {
        "id": "VPWeEtUnz4_-"
      },
      "execution_count": null,
      "outputs": []
    },
    {
      "cell_type": "markdown",
      "source": [
        "###C: Evaluate the predictions\n"
      ],
      "metadata": {
        "id": "8xlK8YD6z6zF"
      }
    },
    {
      "cell_type": "code",
      "source": [
        "#Confusion Matrix\n",
        "con_mat_test = confusion_matrix(y_test,lr_predictions,labels=[0,1])\n",
        "ax = ConfusionMatrixDisplay(confusion_matrix=con_mat_test,display_labels=[0,1])\n",
        "ax.plot(values_format='',cmap=plt.cm.Blues)\n",
        "plt.show()\n"
      ],
      "metadata": {
        "id": "2Up2xGopz9TO"
      },
      "execution_count": null,
      "outputs": []
    },
    {
      "cell_type": "code",
      "source": [
        "print(classification_report(y_test,lr_predictions))\n"
      ],
      "metadata": {
        "id": "3AI-FhIjz_9E"
      },
      "execution_count": null,
      "outputs": []
    },
    {
      "cell_type": "markdown",
      "source": [
        "##Task VIII: IPYNB and HTML Files\n"
      ],
      "metadata": {
        "id": "JewGo9dU0BHw"
      }
    }
  ]
}