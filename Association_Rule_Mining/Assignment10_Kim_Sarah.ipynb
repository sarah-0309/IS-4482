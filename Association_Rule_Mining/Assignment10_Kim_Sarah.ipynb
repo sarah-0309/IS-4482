{
  "nbformat": 4,
  "nbformat_minor": 0,
  "metadata": {
    "colab": {
      "name": "Assignment10_Kim_Sarah.ipynb",
      "provenance": [],
      "collapsed_sections": []
    },
    "kernelspec": {
      "name": "python3",
      "display_name": "Python 3"
    },
    "language_info": {
      "name": "python"
    }
  },
  "cells": [
    {
      "cell_type": "markdown",
      "source": [
        "#Header\n",
        "Association Rule Mining\n",
        "\n",
        "Sarah Kim"
      ],
      "metadata": {
        "id": "mwzN5ivyWDFp"
      }
    },
    {
      "cell_type": "markdown",
      "source": [
        "#Task I"
      ],
      "metadata": {
        "id": "try4amhwWUzh"
      }
    },
    {
      "cell_type": "markdown",
      "source": [
        "## Install the apyori package."
      ],
      "metadata": {
        "id": "pP-IXBx9WXXm"
      }
    },
    {
      "cell_type": "code",
      "execution_count": 42,
      "metadata": {
        "colab": {
          "base_uri": "https://localhost:8080/"
        },
        "id": "sIbR645eVz8z",
        "outputId": "0584f2e1-2267-451c-8253-c2698891f74d"
      },
      "outputs": [
        {
          "output_type": "stream",
          "name": "stdout",
          "text": [
            "Requirement already satisfied: apyori in /usr/local/lib/python3.7/dist-packages (1.1.2)\n"
          ]
        }
      ],
      "source": [
        "!pip install apyori"
      ]
    },
    {
      "cell_type": "markdown",
      "source": [
        "##Import packages"
      ],
      "metadata": {
        "id": "_6wiAzW93UOR"
      }
    },
    {
      "cell_type": "code",
      "source": [
        "# Mathematics and Dataframe Packages\n",
        "import pandas as pd\n",
        "\n",
        "# Google Colab and CSV Packages\n",
        "from google.colab import drive\n",
        "import csv\n",
        "\n",
        "# Graphical Packages\n",
        "from matplotlib import pyplot as plt\n",
        "%matplotlib inline\n",
        "\n",
        "# K-Itemset and Asociation Rules Algorithm Package\n",
        "from apyori import apriori\n",
        "\n",
        "# Suppress Warning Messages\n",
        "import warnings\n",
        "warnings.filterwarnings('ignore')\n",
        "\n",
        "\n",
        "# Model Evaluation Packages\n",
        "from sklearn import metrics\n",
        "from sklearn.metrics import confusion_matrix\n",
        "from sklearn.metrics import ConfusionMatrixDisplay\n",
        "from sklearn.metrics import classification_report\n",
        "from sklearn.metrics import recall_score\n",
        "from sklearn.metrics import precision_score\n",
        "from sklearn.metrics import f1_score\n",
        "from sklearn.metrics import accuracy_score\n",
        "from sklearn.metrics import make_scorer\n",
        "from sklearn.metrics import precision_recall_fscore_support"
      ],
      "metadata": {
        "id": "CePUNzsSvNFZ"
      },
      "execution_count": 43,
      "outputs": []
    },
    {
      "cell_type": "markdown",
      "source": [
        "##Pre-defined functions"
      ],
      "metadata": {
        "id": "qvd2eoX13dhP"
      }
    },
    {
      "cell_type": "code",
      "source": [
        "# Make a Function to make Apriori Association Rule Results Readable\n",
        "def parse(rules):\n",
        "  # Initialize\n",
        "  i = 0\n",
        "  # Convert Apriori Output to a List\n",
        "  apriori_rules = list(rules)\n",
        "  # Loop Over K-Itemset\n",
        "  for relation_record in apriori_rules:\n",
        "    # Define K-Itemset\n",
        "    itemset = relation_record[0]\n",
        "    # Define Support\n",
        "    support = relation_record[1]\n",
        "    # Define List of Rules Associated with K-Itemset\n",
        "    relation_rules = [x for x in relation_record[2]]\n",
        "    # Loop Over K-Itemset Rules\n",
        "    for rule in relation_rules:\n",
        "        # Assign Rule Number\n",
        "        i += 1\n",
        "        # Get Length of Itemset to Establish \"K\" Value\n",
        "        itemset_length = len(itemset)\n",
        "        # Print K-Itemset\n",
        "        print(str(itemset_length)+\"-Itemset: \"+str(set(itemset)))\n",
        "        # Print Support for K-Itemset\n",
        "        print(\"Support: \"+str(round(relation_record[1],2)))\n",
        "        # Print Particular Association Rule\n",
        "        print(\"Rule \"+str(i)+\": \"+str(set(rule[0]))+\" -> \"+str(set(rule[1])))\n",
        "        # Print Confidence Level of Association Rule\n",
        "        print(\"Confidence: \"+str(round(rule[2],2)))\n",
        "        # Print Lift of Association Rule\n",
        "        print(\"Lift: \"+str(round(rule[3],2)))\n",
        "        # Separate Rules by a Newline Character\n",
        "        print(\"\\n\")"
      ],
      "metadata": {
        "id": "s-NYG7BT3aH7"
      },
      "execution_count": 44,
      "outputs": []
    },
    {
      "cell_type": "markdown",
      "source": [
        "##Read-in dataset"
      ],
      "metadata": {
        "id": "9QYCjsmq3jih"
      }
    },
    {
      "cell_type": "code",
      "source": [
        "drive.mount('/content/gdrive')"
      ],
      "metadata": {
        "colab": {
          "base_uri": "https://localhost:8080/"
        },
        "id": "JL1WdsYXC41x",
        "outputId": "69e0bc91-b51b-4a9f-8ccb-24bfa97dfa90"
      },
      "execution_count": 45,
      "outputs": [
        {
          "output_type": "stream",
          "name": "stdout",
          "text": [
            "Drive already mounted at /content/gdrive; to attempt to forcibly remount, call drive.mount(\"/content/gdrive\", force_remount=True).\n"
          ]
        }
      ]
    },
    {
      "cell_type": "code",
      "source": [
        "with open('/content/gdrive/MyDrive/Data_Sets/Walmart_baskets_1week_lst.csv',newline='') as datafile:\n",
        "\n",
        "  reader = csv.reader(datafile)\n",
        "  walmart_baskets = list(reader)"
      ],
      "metadata": {
        "id": "ajalnn5w3gzj"
      },
      "execution_count": 46,
      "outputs": []
    },
    {
      "cell_type": "markdown",
      "source": [
        "##Display number of entries"
      ],
      "metadata": {
        "id": "m-fdP6vT4tG8"
      }
    },
    {
      "cell_type": "code",
      "source": [
        "len(walmart_baskets)"
      ],
      "metadata": {
        "colab": {
          "base_uri": "https://localhost:8080/"
        },
        "id": "k5onmhcD4hJ7",
        "outputId": "27da2387-9c6a-450a-9a97-80f5f3549225"
      },
      "execution_count": 47,
      "outputs": [
        {
          "output_type": "execute_result",
          "data": {
            "text/plain": [
              "2000"
            ]
          },
          "metadata": {},
          "execution_count": 47
        }
      ]
    },
    {
      "cell_type": "markdown",
      "source": [
        "##Display first ten entries"
      ],
      "metadata": {
        "id": "wnvdUgK34xmO"
      }
    },
    {
      "cell_type": "code",
      "source": [
        "walmart_baskets[0:10]"
      ],
      "metadata": {
        "colab": {
          "base_uri": "https://localhost:8080/"
        },
        "id": "gxXStw5D4ic4",
        "outputId": "522fb628-1c7e-4bdb-9cd3-b5113992cdb5"
      },
      "execution_count": 48,
      "outputs": [
        {
          "output_type": "execute_result",
          "data": {
            "text/plain": [
              "[['FABRICS AND CRAFTS'],\n",
              " ['HARDWARE', 'PERSONAL CARE', 'PHARMACY OTC'],\n",
              " ['FROZEN FOODS', 'PRODUCE', 'SEAFOOD'],\n",
              " ['FROZEN FOODS'],\n",
              " ['LADIESWEAR'],\n",
              " ['FINANCIAL SERVICES'],\n",
              " ['FINANCIAL SERVICES'],\n",
              " ['CANDY', ' TOBACCO', ' COOKIES', 'DSD GROCERY', 'HOUSEHOLD PAPER GOODS'],\n",
              " ['BEAUTY'],\n",
              " ['FINANCIAL SERVICES', 'IMPULSE MERCHANDISE']]"
            ]
          },
          "metadata": {},
          "execution_count": 48
        }
      ]
    },
    {
      "cell_type": "markdown",
      "source": [
        "##Display 20th through 29th list entries "
      ],
      "metadata": {
        "id": "sT5e2tnV5c6b"
      }
    },
    {
      "cell_type": "code",
      "source": [
        "walmart_baskets[20:30]"
      ],
      "metadata": {
        "colab": {
          "base_uri": "https://localhost:8080/"
        },
        "id": "P2NGxal85A73",
        "outputId": "f9a82b0b-8cc8-49bd-9119-055ebecdeb7e"
      },
      "execution_count": 49,
      "outputs": [
        {
          "output_type": "execute_result",
          "data": {
            "text/plain": [
              "[['DAIRY', 'PRE PACKED DELI'],\n",
              " ['DAIRY', 'DSD GROCERY', 'LADIESWEAR'],\n",
              " ['IMPULSE MERCHANDISE', 'INFANT CONSUMABLE HARDLINES', 'SHOES'],\n",
              " ['PERSONAL CARE'],\n",
              " ['GROCERY DRY GOODS'],\n",
              " ['GROCERY DRY GOODS', 'LADIESWEAR', 'PRODUCE'],\n",
              " ['MENS WEAR'],\n",
              " ['IMPULSE MERCHANDISE', 'PERSONAL CARE'],\n",
              " ['AUTOMOTIVE'],\n",
              " ['JEWELRY AND SUNGLASSES']]"
            ]
          },
          "metadata": {},
          "execution_count": 49
        }
      ]
    },
    {
      "cell_type": "markdown",
      "source": [
        "## Flatten the dataset "
      ],
      "metadata": {
        "id": "JEhucinb5rFn"
      }
    },
    {
      "cell_type": "code",
      "source": [
        "# Convert the 2D List of Lists to a Single List with the Same Ordering\n",
        "flattened_basket = [item for sublist in walmart_baskets for item in sublist]"
      ],
      "metadata": {
        "id": "unPdqoeD5ivO"
      },
      "execution_count": 50,
      "outputs": []
    },
    {
      "cell_type": "code",
      "source": [
        "# plot a horizontal barchart of word counts\n",
        "pd.get_dummies(flattened_basket).sum().sort_values(ascending=False).plot(kind='barh',figsize=(10,20))\n",
        "plt.show()\n"
      ],
      "metadata": {
        "colab": {
          "base_uri": "https://localhost:8080/",
          "height": 1000
        },
        "id": "4jcQAePy6NY-",
        "outputId": "9a8fdba5-d163-44ef-a730-0e1981da6185"
      },
      "execution_count": 51,
      "outputs": [
        {
          "output_type": "display_data",
          "data": {
            "text/plain": [
              "<Figure size 720x1440 with 1 Axes>"
            ],
            "image/png": "[encoded data removed]"
          },
          "metadata": {
            "needs_background": "light"
          }
        }
      ]
    },
    {
      "cell_type": "markdown",
      "source": [
        "#Task II: Apriori - Part 1"
      ],
      "metadata": {
        "id": "e7bxZaBS655Z"
      }
    },
    {
      "cell_type": "markdown",
      "source": [
        "##A:"
      ],
      "metadata": {
        "id": "9m2zfRmxOYHF"
      }
    },
    {
      "cell_type": "code",
      "source": [
        "association_rules_1 = apriori(walmart_baskets,min_support=0.075,min_confidence=0.2,min_lift=1.2) "
      ],
      "metadata": {
        "id": "T__9H8yvDWFH"
      },
      "execution_count": 52,
      "outputs": []
    },
    {
      "cell_type": "markdown",
      "source": [
        "##B:"
      ],
      "metadata": {
        "id": "MQWMcUPkOdmn"
      }
    },
    {
      "cell_type": "code",
      "source": [
        "parse(association_rules_1)"
      ],
      "metadata": {
        "colab": {
          "base_uri": "https://localhost:8080/"
        },
        "id": "PJcUA4yjXSD4",
        "outputId": "df841702-e3cf-4945-8fd7-29f2e35f1777"
      },
      "execution_count": 53,
      "outputs": [
        {
          "output_type": "stream",
          "name": "stdout",
          "text": [
            "2-Itemset: {'COMM BREAD', 'GROCERY DRY GOODS'}\n",
            "Support: 0.08\n",
            "Rule 1: {'COMM BREAD'} -> {'GROCERY DRY GOODS'}\n",
            "Confidence: 0.73\n",
            "Lift: 3.37\n",
            "\n",
            "\n",
            "2-Itemset: {'COMM BREAD', 'GROCERY DRY GOODS'}\n",
            "Support: 0.08\n",
            "Rule 2: {'GROCERY DRY GOODS'} -> {'COMM BREAD'}\n",
            "Confidence: 0.35\n",
            "Lift: 3.37\n",
            "\n",
            "\n",
            "2-Itemset: {'DSD GROCERY', 'DAIRY'}\n",
            "Support: 0.12\n",
            "Rule 3: {'DAIRY'} -> {'DSD GROCERY'}\n",
            "Confidence: 0.64\n",
            "Lift: 2.09\n",
            "\n",
            "\n",
            "2-Itemset: {'DSD GROCERY', 'DAIRY'}\n",
            "Support: 0.12\n",
            "Rule 4: {'DSD GROCERY'} -> {'DAIRY'}\n",
            "Confidence: 0.4\n",
            "Lift: 2.09\n",
            "\n",
            "\n",
            "2-Itemset: {'GROCERY DRY GOODS', 'DAIRY'}\n",
            "Support: 0.12\n",
            "Rule 5: {'DAIRY'} -> {'GROCERY DRY GOODS'}\n",
            "Confidence: 0.61\n",
            "Lift: 2.81\n",
            "\n",
            "\n",
            "2-Itemset: {'GROCERY DRY GOODS', 'DAIRY'}\n",
            "Support: 0.12\n",
            "Rule 6: {'GROCERY DRY GOODS'} -> {'DAIRY'}\n",
            "Confidence: 0.54\n",
            "Lift: 2.81\n",
            "\n",
            "\n",
            "2-Itemset: {'PRODUCE', 'DAIRY'}\n",
            "Support: 0.1\n",
            "Rule 7: {'DAIRY'} -> {'PRODUCE'}\n",
            "Confidence: 0.51\n",
            "Lift: 2.64\n",
            "\n",
            "\n",
            "2-Itemset: {'PRODUCE', 'DAIRY'}\n",
            "Support: 0.1\n",
            "Rule 8: {'PRODUCE'} -> {'DAIRY'}\n",
            "Confidence: 0.51\n",
            "Lift: 2.64\n",
            "\n",
            "\n",
            "2-Itemset: {'GROCERY DRY GOODS', 'DSD GROCERY'}\n",
            "Support: 0.13\n",
            "Rule 9: {'DSD GROCERY'} -> {'GROCERY DRY GOODS'}\n",
            "Confidence: 0.43\n",
            "Lift: 1.97\n",
            "\n",
            "\n",
            "2-Itemset: {'GROCERY DRY GOODS', 'DSD GROCERY'}\n",
            "Support: 0.13\n",
            "Rule 10: {'GROCERY DRY GOODS'} -> {'DSD GROCERY'}\n",
            "Confidence: 0.6\n",
            "Lift: 1.97\n",
            "\n",
            "\n",
            "2-Itemset: {'IMPULSE MERCHANDISE', 'DSD GROCERY'}\n",
            "Support: 0.08\n",
            "Rule 11: {'DSD GROCERY'} -> {'IMPULSE MERCHANDISE'}\n",
            "Confidence: 0.26\n",
            "Lift: 1.26\n",
            "\n",
            "\n",
            "2-Itemset: {'IMPULSE MERCHANDISE', 'DSD GROCERY'}\n",
            "Support: 0.08\n",
            "Rule 12: {'IMPULSE MERCHANDISE'} -> {'DSD GROCERY'}\n",
            "Confidence: 0.38\n",
            "Lift: 1.26\n",
            "\n",
            "\n",
            "2-Itemset: {'PERSONAL CARE', 'DSD GROCERY'}\n",
            "Support: 0.08\n",
            "Rule 13: {'DSD GROCERY'} -> {'PERSONAL CARE'}\n",
            "Confidence: 0.25\n",
            "Lift: 1.35\n",
            "\n",
            "\n",
            "2-Itemset: {'PERSONAL CARE', 'DSD GROCERY'}\n",
            "Support: 0.08\n",
            "Rule 14: {'PERSONAL CARE'} -> {'DSD GROCERY'}\n",
            "Confidence: 0.41\n",
            "Lift: 1.35\n",
            "\n",
            "\n",
            "2-Itemset: {'PRODUCE', 'DSD GROCERY'}\n",
            "Support: 0.11\n",
            "Rule 15: {'DSD GROCERY'} -> {'PRODUCE'}\n",
            "Confidence: 0.35\n",
            "Lift: 1.81\n",
            "\n",
            "\n",
            "2-Itemset: {'PRODUCE', 'DSD GROCERY'}\n",
            "Support: 0.11\n",
            "Rule 16: {'PRODUCE'} -> {'DSD GROCERY'}\n",
            "Confidence: 0.55\n",
            "Lift: 1.81\n",
            "\n",
            "\n",
            "2-Itemset: {'PRODUCE', 'GROCERY DRY GOODS'}\n",
            "Support: 0.1\n",
            "Rule 17: {'GROCERY DRY GOODS'} -> {'PRODUCE'}\n",
            "Confidence: 0.48\n",
            "Lift: 2.48\n",
            "\n",
            "\n",
            "2-Itemset: {'PRODUCE', 'GROCERY DRY GOODS'}\n",
            "Support: 0.1\n",
            "Rule 18: {'PRODUCE'} -> {'GROCERY DRY GOODS'}\n",
            "Confidence: 0.54\n",
            "Lift: 2.48\n",
            "\n",
            "\n",
            "3-Itemset: {'DSD GROCERY', 'GROCERY DRY GOODS', 'DAIRY'}\n",
            "Support: 0.09\n",
            "Rule 19: {'DAIRY'} -> {'GROCERY DRY GOODS', 'DSD GROCERY'}\n",
            "Confidence: 0.47\n",
            "Lift: 3.59\n",
            "\n",
            "\n",
            "3-Itemset: {'DSD GROCERY', 'GROCERY DRY GOODS', 'DAIRY'}\n",
            "Support: 0.09\n",
            "Rule 20: {'DSD GROCERY'} -> {'GROCERY DRY GOODS', 'DAIRY'}\n",
            "Confidence: 0.29\n",
            "Lift: 2.51\n",
            "\n",
            "\n",
            "3-Itemset: {'DSD GROCERY', 'GROCERY DRY GOODS', 'DAIRY'}\n",
            "Support: 0.09\n",
            "Rule 21: {'GROCERY DRY GOODS'} -> {'DAIRY', 'DSD GROCERY'}\n",
            "Confidence: 0.42\n",
            "Lift: 3.39\n",
            "\n",
            "\n",
            "3-Itemset: {'DSD GROCERY', 'GROCERY DRY GOODS', 'DAIRY'}\n",
            "Support: 0.09\n",
            "Rule 22: {'DSD GROCERY', 'DAIRY'} -> {'GROCERY DRY GOODS'}\n",
            "Confidence: 0.73\n",
            "Lift: 3.39\n",
            "\n",
            "\n",
            "3-Itemset: {'DSD GROCERY', 'GROCERY DRY GOODS', 'DAIRY'}\n",
            "Support: 0.09\n",
            "Rule 23: {'GROCERY DRY GOODS', 'DAIRY'} -> {'DSD GROCERY'}\n",
            "Confidence: 0.77\n",
            "Lift: 2.51\n",
            "\n",
            "\n",
            "3-Itemset: {'DSD GROCERY', 'GROCERY DRY GOODS', 'DAIRY'}\n",
            "Support: 0.09\n",
            "Rule 24: {'GROCERY DRY GOODS', 'DSD GROCERY'} -> {'DAIRY'}\n",
            "Confidence: 0.69\n",
            "Lift: 3.59\n",
            "\n",
            "\n"
          ]
        }
      ]
    },
    {
      "cell_type": "markdown",
      "source": [
        "##C:"
      ],
      "metadata": {
        "id": "dEZf_OuQOS9s"
      }
    },
    {
      "cell_type": "markdown",
      "source": [
        "The resulting rules imply that people tend to buy groceries together, which is not surprising. The lift values also indicate positive correlations among the items.  \n",
        "\n",
        "---\n",
        "\n"
      ],
      "metadata": {
        "id": "TIL10jIkOg1v"
      }
    },
    {
      "cell_type": "markdown",
      "source": [
        "#Task III: Apriori - Part 2"
      ],
      "metadata": {
        "id": "p454BWJzGBzV"
      }
    },
    {
      "cell_type": "markdown",
      "source": [
        "##A:"
      ],
      "metadata": {
        "id": "Kc4kgT44QGsD"
      }
    },
    {
      "cell_type": "code",
      "source": [
        "association_rules_2 = apriori(walmart_baskets,min_support=0.075,min_confidence=0.5,min_lift=1.2)"
      ],
      "metadata": {
        "id": "EYJYV4v0Dg4T"
      },
      "execution_count": 54,
      "outputs": []
    },
    {
      "cell_type": "markdown",
      "source": [
        "##B:"
      ],
      "metadata": {
        "id": "-zLU-aKYQLG0"
      }
    },
    {
      "cell_type": "code",
      "source": [
        "parse(association_rules_2)"
      ],
      "metadata": {
        "colab": {
          "base_uri": "https://localhost:8080/"
        },
        "id": "BNgnXpZOGTPD",
        "outputId": "95da342f-225a-4aa2-d8b6-2b217bc68703"
      },
      "execution_count": 55,
      "outputs": [
        {
          "output_type": "stream",
          "name": "stdout",
          "text": [
            "2-Itemset: {'COMM BREAD', 'GROCERY DRY GOODS'}\n",
            "Support: 0.08\n",
            "Rule 1: {'COMM BREAD'} -> {'GROCERY DRY GOODS'}\n",
            "Confidence: 0.73\n",
            "Lift: 3.37\n",
            "\n",
            "\n",
            "2-Itemset: {'DSD GROCERY', 'DAIRY'}\n",
            "Support: 0.12\n",
            "Rule 2: {'DAIRY'} -> {'DSD GROCERY'}\n",
            "Confidence: 0.64\n",
            "Lift: 2.09\n",
            "\n",
            "\n",
            "2-Itemset: {'GROCERY DRY GOODS', 'DAIRY'}\n",
            "Support: 0.12\n",
            "Rule 3: {'DAIRY'} -> {'GROCERY DRY GOODS'}\n",
            "Confidence: 0.61\n",
            "Lift: 2.81\n",
            "\n",
            "\n",
            "2-Itemset: {'GROCERY DRY GOODS', 'DAIRY'}\n",
            "Support: 0.12\n",
            "Rule 4: {'GROCERY DRY GOODS'} -> {'DAIRY'}\n",
            "Confidence: 0.54\n",
            "Lift: 2.81\n",
            "\n",
            "\n",
            "2-Itemset: {'PRODUCE', 'DAIRY'}\n",
            "Support: 0.1\n",
            "Rule 5: {'DAIRY'} -> {'PRODUCE'}\n",
            "Confidence: 0.51\n",
            "Lift: 2.64\n",
            "\n",
            "\n",
            "2-Itemset: {'PRODUCE', 'DAIRY'}\n",
            "Support: 0.1\n",
            "Rule 6: {'PRODUCE'} -> {'DAIRY'}\n",
            "Confidence: 0.51\n",
            "Lift: 2.64\n",
            "\n",
            "\n",
            "2-Itemset: {'GROCERY DRY GOODS', 'DSD GROCERY'}\n",
            "Support: 0.13\n",
            "Rule 7: {'GROCERY DRY GOODS'} -> {'DSD GROCERY'}\n",
            "Confidence: 0.6\n",
            "Lift: 1.97\n",
            "\n",
            "\n",
            "2-Itemset: {'PRODUCE', 'DSD GROCERY'}\n",
            "Support: 0.11\n",
            "Rule 8: {'PRODUCE'} -> {'DSD GROCERY'}\n",
            "Confidence: 0.55\n",
            "Lift: 1.81\n",
            "\n",
            "\n",
            "2-Itemset: {'PRODUCE', 'GROCERY DRY GOODS'}\n",
            "Support: 0.1\n",
            "Rule 9: {'PRODUCE'} -> {'GROCERY DRY GOODS'}\n",
            "Confidence: 0.54\n",
            "Lift: 2.48\n",
            "\n",
            "\n",
            "3-Itemset: {'DSD GROCERY', 'GROCERY DRY GOODS', 'DAIRY'}\n",
            "Support: 0.09\n",
            "Rule 10: {'DSD GROCERY', 'DAIRY'} -> {'GROCERY DRY GOODS'}\n",
            "Confidence: 0.73\n",
            "Lift: 3.39\n",
            "\n",
            "\n",
            "3-Itemset: {'DSD GROCERY', 'GROCERY DRY GOODS', 'DAIRY'}\n",
            "Support: 0.09\n",
            "Rule 11: {'GROCERY DRY GOODS', 'DAIRY'} -> {'DSD GROCERY'}\n",
            "Confidence: 0.77\n",
            "Lift: 2.51\n",
            "\n",
            "\n",
            "3-Itemset: {'DSD GROCERY', 'GROCERY DRY GOODS', 'DAIRY'}\n",
            "Support: 0.09\n",
            "Rule 12: {'GROCERY DRY GOODS', 'DSD GROCERY'} -> {'DAIRY'}\n",
            "Confidence: 0.69\n",
            "Lift: 3.59\n",
            "\n",
            "\n"
          ]
        }
      ]
    },
    {
      "cell_type": "markdown",
      "source": [
        "##C:"
      ],
      "metadata": {
        "id": "awz4k0iyQSaU"
      }
    },
    {
      "cell_type": "markdown",
      "source": [
        "* There are more 2-itemset rules than 3-itemset rules when increasing the minimum confidence threshold. \n",
        "* The support values are low compared to confidence and lift values. That may mean that those itemsets may not appear frequently in the whole basket dataset. Though when they do appear, the associations are quite strong. "
      ],
      "metadata": {
        "id": "QVeuR9xWQSSe"
      }
    },
    {
      "cell_type": "markdown",
      "source": [
        "#Task IV: Apriori - Part 3"
      ],
      "metadata": {
        "id": "G9XeEP6LVoj-"
      }
    },
    {
      "cell_type": "markdown",
      "source": [
        "##A:"
      ],
      "metadata": {
        "id": "cwGI-kBzQUCw"
      }
    },
    {
      "cell_type": "code",
      "source": [
        "association_rules_3 = apriori(walmart_baskets,min_support=0.075,min_confidence=0.2,min_lift=2.1) "
      ],
      "metadata": {
        "id": "eIVJwKClVr5R"
      },
      "execution_count": 56,
      "outputs": []
    },
    {
      "cell_type": "markdown",
      "source": [
        "##B:"
      ],
      "metadata": {
        "id": "q9kavSo9QT-T"
      }
    },
    {
      "cell_type": "code",
      "source": [
        "parse(association_rules_3)"
      ],
      "metadata": {
        "id": "lWN4SnUHQa6V",
        "colab": {
          "base_uri": "https://localhost:8080/"
        },
        "outputId": "88e7935d-b4ef-4185-bc2d-641ae170bb5e"
      },
      "execution_count": 57,
      "outputs": [
        {
          "output_type": "stream",
          "name": "stdout",
          "text": [
            "2-Itemset: {'COMM BREAD', 'GROCERY DRY GOODS'}\n",
            "Support: 0.08\n",
            "Rule 1: {'COMM BREAD'} -> {'GROCERY DRY GOODS'}\n",
            "Confidence: 0.73\n",
            "Lift: 3.37\n",
            "\n",
            "\n",
            "2-Itemset: {'COMM BREAD', 'GROCERY DRY GOODS'}\n",
            "Support: 0.08\n",
            "Rule 2: {'GROCERY DRY GOODS'} -> {'COMM BREAD'}\n",
            "Confidence: 0.35\n",
            "Lift: 3.37\n",
            "\n",
            "\n",
            "2-Itemset: {'GROCERY DRY GOODS', 'DAIRY'}\n",
            "Support: 0.12\n",
            "Rule 3: {'DAIRY'} -> {'GROCERY DRY GOODS'}\n",
            "Confidence: 0.61\n",
            "Lift: 2.81\n",
            "\n",
            "\n",
            "2-Itemset: {'GROCERY DRY GOODS', 'DAIRY'}\n",
            "Support: 0.12\n",
            "Rule 4: {'GROCERY DRY GOODS'} -> {'DAIRY'}\n",
            "Confidence: 0.54\n",
            "Lift: 2.81\n",
            "\n",
            "\n",
            "2-Itemset: {'PRODUCE', 'DAIRY'}\n",
            "Support: 0.1\n",
            "Rule 5: {'DAIRY'} -> {'PRODUCE'}\n",
            "Confidence: 0.51\n",
            "Lift: 2.64\n",
            "\n",
            "\n",
            "2-Itemset: {'PRODUCE', 'DAIRY'}\n",
            "Support: 0.1\n",
            "Rule 6: {'PRODUCE'} -> {'DAIRY'}\n",
            "Confidence: 0.51\n",
            "Lift: 2.64\n",
            "\n",
            "\n",
            "2-Itemset: {'PRODUCE', 'GROCERY DRY GOODS'}\n",
            "Support: 0.1\n",
            "Rule 7: {'GROCERY DRY GOODS'} -> {'PRODUCE'}\n",
            "Confidence: 0.48\n",
            "Lift: 2.48\n",
            "\n",
            "\n",
            "2-Itemset: {'PRODUCE', 'GROCERY DRY GOODS'}\n",
            "Support: 0.1\n",
            "Rule 8: {'PRODUCE'} -> {'GROCERY DRY GOODS'}\n",
            "Confidence: 0.54\n",
            "Lift: 2.48\n",
            "\n",
            "\n",
            "3-Itemset: {'DSD GROCERY', 'GROCERY DRY GOODS', 'DAIRY'}\n",
            "Support: 0.09\n",
            "Rule 9: {'DAIRY'} -> {'GROCERY DRY GOODS', 'DSD GROCERY'}\n",
            "Confidence: 0.47\n",
            "Lift: 3.59\n",
            "\n",
            "\n",
            "3-Itemset: {'DSD GROCERY', 'GROCERY DRY GOODS', 'DAIRY'}\n",
            "Support: 0.09\n",
            "Rule 10: {'DSD GROCERY'} -> {'GROCERY DRY GOODS', 'DAIRY'}\n",
            "Confidence: 0.29\n",
            "Lift: 2.51\n",
            "\n",
            "\n",
            "3-Itemset: {'DSD GROCERY', 'GROCERY DRY GOODS', 'DAIRY'}\n",
            "Support: 0.09\n",
            "Rule 11: {'GROCERY DRY GOODS'} -> {'DAIRY', 'DSD GROCERY'}\n",
            "Confidence: 0.42\n",
            "Lift: 3.39\n",
            "\n",
            "\n",
            "3-Itemset: {'DSD GROCERY', 'GROCERY DRY GOODS', 'DAIRY'}\n",
            "Support: 0.09\n",
            "Rule 12: {'DSD GROCERY', 'DAIRY'} -> {'GROCERY DRY GOODS'}\n",
            "Confidence: 0.73\n",
            "Lift: 3.39\n",
            "\n",
            "\n",
            "3-Itemset: {'DSD GROCERY', 'GROCERY DRY GOODS', 'DAIRY'}\n",
            "Support: 0.09\n",
            "Rule 13: {'GROCERY DRY GOODS', 'DAIRY'} -> {'DSD GROCERY'}\n",
            "Confidence: 0.77\n",
            "Lift: 2.51\n",
            "\n",
            "\n",
            "3-Itemset: {'DSD GROCERY', 'GROCERY DRY GOODS', 'DAIRY'}\n",
            "Support: 0.09\n",
            "Rule 14: {'GROCERY DRY GOODS', 'DSD GROCERY'} -> {'DAIRY'}\n",
            "Confidence: 0.69\n",
            "Lift: 3.59\n",
            "\n",
            "\n"
          ]
        }
      ]
    },
    {
      "cell_type": "markdown",
      "source": [
        "##C:"
      ],
      "metadata": {
        "id": "JFBYOGDgQbjy"
      }
    },
    {
      "cell_type": "markdown",
      "source": [
        "As the list threshold increase, more 3 itemsets appear."
      ],
      "metadata": {
        "id": "fJeGWyVQQc_Y"
      }
    },
    {
      "cell_type": "markdown",
      "source": [
        "#Task V: IPYNB and HTML Files"
      ],
      "metadata": {
        "id": "bDVeQhhqWGAK"
      }
    },
    {
      "cell_type": "code",
      "source": [
        "%%shell\n",
        " jupyter nbconvert --to html /content/gdrive/MyDrive/Data_Sets/Assignment10_Kim_Sarah.ipynb"
      ],
      "metadata": {
        "id": "k9H1NmFGWI16",
        "colab": {
          "base_uri": "https://localhost:8080/"
        },
        "outputId": "8c0f7dc6-6034-4e13-d417-31038e07dcbf"
      },
      "execution_count": 58,
      "outputs": [
        {
          "output_type": "stream",
          "name": "stdout",
          "text": [
            "[NbConvertApp] Converting notebook /content/gdrive/MyDrive/Data_Sets/Assignment10_Kim_Sarah.ipynb to html\n",
            "[NbConvertApp] Writing 417257 bytes to /content/gdrive/MyDrive/Data_Sets/Assignment10_Kim_Sarah.html\n"
          ]
        },
        {
          "output_type": "execute_result",
          "data": {
            "text/plain": [
              ""
            ]
          },
          "metadata": {},
          "execution_count": 58
        }
      ]
    }
  ]
}